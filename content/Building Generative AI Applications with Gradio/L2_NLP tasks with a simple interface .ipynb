{
 "cells": [
  {
   "cell_type": "markdown",
   "id": "88535ead",
   "metadata": {},
   "source": [
    "# L2: NLP tasks with a simple interface 🗞️"
   ]
  },
  {
   "cell_type": "markdown",
   "id": "6faa43ba",
   "metadata": {},
   "source": [
    "加载HF API密钥和相关Python库"
   ]
  },
  {
   "cell_type": "code",
   "execution_count": 1,
   "id": "d2698081-4deb-436a-a821-8ea48bdd6e6a",
   "metadata": {
    "height": 149
   },
   "outputs": [],
   "source": [
    "import os\n",
    "import io\n",
    "from IPython.display import Image, display, HTML\n",
    "from PIL import Image\n",
    "import base64 \n",
    "from dotenv import load_dotenv, find_dotenv\n",
    "_ = load_dotenv(find_dotenv()) # read local .env file\n",
    "hf_api_key = os.environ['HF_API_KEY']"
   ]
  },
  {
   "cell_type": "markdown",
   "id": "3542980d",
   "metadata": {},
   "source": [
    "## 选择使用api在线服务\n",
    "您可以选择在线调用api的方式，所以首先，我们要设置我们的API密钥，然后我们将设置我们的带摘要功能的助手函数。在这里，我们有一个用于推理端点API的端点，它将使用课程上设置的API密钥工作，该API基本上调用一个函数，如下所示。"
   ]
  },
  {
   "cell_type": "code",
   "execution_count": 2,
   "id": "a106ab02-f248-4c03-9dd8-b1991db7f778",
   "metadata": {
    "height": 319
   },
   "outputs": [],
   "source": [
    "# 导入一些必要的包\n",
    "import requests, json\n",
    "\n",
    "#总结函数\n",
    "def get_completion(inputs, parameters=None,ENDPOINT_URL=os.environ['HF_API_SUMMARY_BASE']): \n",
    "    headers = {\n",
    "      \"Authorization\": f\"Bearer {hf_api_key}\",\n",
    "      \"Content-Type\": \"application/json\"\n",
    "    }\n",
    "    data = { \"inputs\": inputs }\n",
    "    if parameters is not None:\n",
    "        data.update({\"parameters\": parameters})\n",
    "    response = requests.request(\"POST\",\n",
    "                                ENDPOINT_URL, headers=headers,\n",
    "                                data=json.dumps(data)\n",
    "                               )\n",
    "    return json.loads(response.content.decode(\"utf-8\"))"
   ]
  },
  {
   "cell_type": "markdown",
   "id": "a97a06f9",
   "metadata": {},
   "source": [
    "## 构建一个文本摘要应用程序"
   ]
  },
  {
   "cell_type": "markdown",
   "id": "d4794502",
   "metadata": {},
   "source": [
    "您可以选择本地部署模型，模型下载地址：https://huggingface.co/sshleifer/distilbart-cnn-12-6"
   ]
  },
  {
   "cell_type": "code",
   "execution_count": 4,
   "id": "01892d1a",
   "metadata": {},
   "outputs": [],
   "source": [
    "# 导入所需的库\n",
    "from transformers import pipeline\n",
    "\n",
    "# 创建一个文本摘要生成的pipeline，使用预训练模型\"sshleiferdistilbart-cnn-12-6\"\n",
    "get_completion = pipeline(\"summarization\", model=\"sshleiferdistilbart-cnn-12-6\")\n",
    "\n",
    "# 定义一个函数用于生成文本摘要\n",
    "def summarize(input):\n",
    "    # 使用pipeline生成文本摘要\n",
    "    output = get_completion(input)\n",
    "    # 提取摘要文本并返回\n",
    "    return output[0]['summary_text']"
   ]
  },
  {
   "cell_type": "code",
   "execution_count": 5,
   "id": "c2f0fc58-91d6-48f2-a014-052192586be8",
   "metadata": {
    "height": 251
   },
   "outputs": [
    {
     "name": "stdout",
     "output_type": "stream",
     "text": [
      "[{'summary_text': ' The tower is 324 metres (1,063 ft) tall, about the same '\n",
      "                  'height as an 81-storey building . It is the tallest '\n",
      "                  'structure in Paris and the second tallest free-standing '\n",
      "                  'structure in France after the Millau Viaduct . It was the '\n",
      "                  'first structure in the world to reach a height of 300 '\n",
      "                  'metres .'}]\n"
     ]
    }
   ],
   "source": [
    "# pprint包可以更好的展示json格式的内容\n",
    "import pprint\n",
    "\n",
    "text_en = '''The tower is 324 metres (1,063 ft) tall, about the same height\n",
    "        as an 81-storey building, and the tallest structure in Paris. \n",
    "        Its base is square, measuring 125 metres (410 ft) on each side. \n",
    "        During its construction, the Eiffel Tower surpassed the Washington \n",
    "        Monument to become the tallest man-made structure in the world,\n",
    "        a title it held for 41 years until the Chrysler Building\n",
    "        in New York City was finished in 1930. It was the first structure \n",
    "        to reach a height of 300 metres. Due to the addition of a broadcasting \n",
    "        aerial at the top of the tower in 1957, it is now taller than the \n",
    "        Chrysler Building by 5.2 metres (17 ft). Excluding transmitters, the \n",
    "        Eiffel Tower is the second tallest free-standing structure in France \n",
    "        after the Millau Viaduct.'''\n",
    "\n",
    "pprint.pprint(get_completion(text_en))"
   ]
  },
  {
   "cell_type": "code",
   "execution_count": 6,
   "id": "b07e1268",
   "metadata": {},
   "outputs": [
    {
     "name": "stdout",
     "output_type": "stream",
     "text": [
      "[{'summary_text': ' 这座塔 高324米（1,063英尺）   \\xa0\\xa0- \\xa0‘�predered’ \\xa0- 是巴 '\n",
      "                  '��最 \\xa0augmented\\xa0a\\xa0gave’s \\xa0agility\\xa0-\\xa0“I’m '\n",
      "                  \"not sure what happened to me.”   ‘’�s”: “”. “\\xa0” . ‘'”’ \"\n",
      "                  '‘�\\u2009’’: \\u2009\\xa0\\u2009 \\u2009'}]\n"
     ]
    }
   ],
   "source": [
    "# pprint包可以更好的展示json格式的内容\n",
    "import pprint\n",
    "\n",
    "# 这个模型对中文的支持并没有英文好，所以大家知道这个函数的作用是总结就好。\n",
    "text_zh = '''这座塔高324米（1,063英尺），与一座81层楼高的建筑物大致相同高度，\n",
    "            是巴黎最高的建筑物。其底座呈正方形，每边长125米（410英尺）。\n",
    "            在建造过程中，埃菲尔铁塔超越了华盛顿纪念碑，成为世界上最高的人造结构，\n",
    "            这个称号保持了41年，直到纽约市的克莱斯勒大厦于1930年完工。\n",
    "            它是第一个达到300米高度的建筑物。由于在塔顶增加了一个广播天线，\n",
    "            它比克莱斯勒大厦高出5.2米（17英尺）。不包括发射器在内，\n",
    "            埃菲尔铁塔是法国第二高的独立结构，仅次于米洛高架桥。'''\n",
    "\n",
    "pprint.pprint(get_completion(text_zh))"
   ]
  },
  {
   "cell_type": "markdown",
   "id": "f144593f",
   "metadata": {},
   "source": [
    "### 现在开始学习 Gradio `gr.Interface` \n",
    "\n",
    "#### 如何让grido在本地运行?\n",
    "如果您在本地运行代码，代码将非常类似。只需在launch方法中删除所有参数即可。\n",
    "\n",
    "```py\n",
    "demo.launch()\n",
    "```"
   ]
  },
  {
   "cell_type": "code",
   "execution_count": 7,
   "id": "3eb11460",
   "metadata": {
    "height": 149
   },
   "outputs": [
    {
     "name": "stdout",
     "output_type": "stream",
     "text": [
      "Running on local URL:  http://127.0.0.1:7860\n",
      "\n",
      "To create a public link, set `share=True` in `launch()`.\n"
     ]
    },
    {
     "data": {
      "text/html": [
       "<div><iframe src=\"http://127.0.0.1:7860/\" width=\"100%\" height=\"500\" allow=\"autoplay; camera; microphone; clipboard-read; clipboard-write;\" frameborder=\"0\" allowfullscreen></iframe></div>"
      ],
      "text/plain": [
       "<IPython.core.display.HTML object>"
      ]
     },
     "metadata": {},
     "output_type": "display_data"
    },
    {
     "data": {
      "text/plain": []
     },
     "execution_count": 7,
     "metadata": {},
     "output_type": "execute_result"
    }
   ],
   "source": [
    "# 导入所需的库\n",
    "import gradio as gr\n",
    "\n",
    "# 定义生成文本摘要的函数\n",
    "def summarize(input):\n",
    "    output = get_completion(input)  # 使用之前定义的文本摘要生成函数\n",
    "    return output[0]['summary_text']\n",
    "\n",
    "# 关闭所有之前的Gradio界面（如果有的话）\n",
    "gr.close_all()\n",
    "\n",
    "# 创建Gradio界面\n",
    "demo = gr.Interface(fn=summarize, inputs=\"text\", outputs=\"text\")\n",
    "\n",
    "# 启动界面\n",
    "demo.launch()"
   ]
  },
  {
   "cell_type": "markdown",
   "id": "9b310770",
   "metadata": {},
   "source": [
    "您可以添加' demo.launch(share=True) '来创建一个公共链接，以便与您的团队或朋友分享。"
   ]
  },
  {
   "cell_type": "markdown",
   "id": "301da772",
   "metadata": {},
   "source": [
    "- fn=summarize: 这是要应用于用户输入的函数，即生成文本摘要的函数。\n",
    "- inputs=[gr.Textbox(label=\"Text to summarize\", lines=6)]: 这定义了用户输入的部分。gr.Textbox 创建一个文本框，label 参数用于显示文本框前面的标签，lines 参数定义文本框的行数。\n",
    "- outputs=[gr.Textbox(label=\"Result\", lines=3)]: 这定义了输出部分。与输入类似，这里使用文本框来显示摘要的结果。\n",
    "- title=\"Text summarization with distilbart-cnn\": 这是界面的标题，将显示在界面的顶部。\n",
    "- description=\"Summarize any text using the shleifer/distilbart-cnn-12-6 model under the hood!\": 这是界面的描述，提供有关界面功能的更多信息。\n",
    "- demo.launch(share=True): 启动 Gradio 界面，并通过共享模式使其他用户能够访问该界面。"
   ]
  },
  {
   "cell_type": "code",
   "execution_count": 8,
   "id": "60684b55-c7ae-4c9e-88ea-bbc2e702ecdb",
   "metadata": {
    "height": 268
   },
   "outputs": [
    {
     "name": "stdout",
     "output_type": "stream",
     "text": [
      "Closing server running on port: 7860\n",
      "Running on local URL:  http://127.0.0.1:7860\n",
      "Running on public URL: https://6ac7fb2fbacafd3065.gradio.live\n",
      "\n",
      "This share link expires in 72 hours. For free permanent hosting and GPU upgrades, run `gradio deploy` from Terminal to deploy to Spaces (https://huggingface.co/spaces)\n"
     ]
    },
    {
     "data": {
      "text/html": [
       "<div><iframe src=\"https://6ac7fb2fbacafd3065.gradio.live\" width=\"100%\" height=\"500\" allow=\"autoplay; camera; microphone; clipboard-read; clipboard-write;\" frameborder=\"0\" allowfullscreen></iframe></div>"
      ],
      "text/plain": [
       "<IPython.core.display.HTML object>"
      ]
     },
     "metadata": {},
     "output_type": "display_data"
    },
    {
     "data": {
      "text/plain": []
     },
     "execution_count": 8,
     "metadata": {},
     "output_type": "execute_result"
    }
   ],
   "source": [
    "# 导入所需的库\n",
    "import gradio as gr\n",
    "\n",
    "# 定义生成文本摘要的函数\n",
    "def summarize(input):\n",
    "    output = get_completion(input)  # 使用之前定义的文本摘要生成函数\n",
    "    return output[0]['summary_text']\n",
    "\n",
    "# 关闭所有之前的Gradio界面（如果有的话）\n",
    "gr.close_all()\n",
    "\n",
    "# 创建Gradio界面\n",
    "demo = gr.Interface(\n",
    "    fn=summarize,  # 指定要用于处理输入的函数\n",
    "    inputs=[gr.Textbox(label=\"Text to summarize\", lines=6)],  # 输入部分的设置\n",
    "    outputs=[gr.Textbox(label=\"Result\", lines=3)],  # 输出部分的设置\n",
    "    title=\"Text summarization with distilbart-cnn\",  # 界面标题\n",
    "    description=\"Summarize any text using the `shleifer/distilbart-cnn-12-6` model under the hood!\"  # 界面描述\n",
    ")\n",
    "\n",
    "# 启动共享模式的界面，允许其他用户访问\n",
    "demo.launch(share=True)"
   ]
  },
  {
   "cell_type": "markdown",
   "id": "4b300d17",
   "metadata": {},
   "source": [
    "## 构建一个命名实体识别应用程序"
   ]
  },
  {
   "cell_type": "markdown",
   "id": "c0d1043f",
   "metadata": {},
   "source": [
    "我们正在使用这个[推理端点](https://huggingface.co/inference-endpoints)用于`dslim/bert-base-NER`，这是一个在命名实体识别任务上进行了微调的拥有108M参数的BART模型。"
   ]
  },
  {
   "cell_type": "markdown",
   "id": "f663dcbb",
   "metadata": {},
   "source": [
    "### 如何让它在本地运行?\n",
    "\n",
    "这里笔者继续选择在本地加载模型，模型下载地址：https://huggingface.co/dslim/bert-base-NER"
   ]
  },
  {
   "cell_type": "code",
   "execution_count": 9,
   "id": "cd4e1381",
   "metadata": {},
   "outputs": [
    {
     "name": "stderr",
     "output_type": "stream",
     "text": [
      "Some weights of the model checkpoint at dslimbert-base-NER were not used when initializing BertForTokenClassification: ['bert.pooler.dense.weight', 'bert.pooler.dense.bias']\n",
      "- This IS expected if you are initializing BertForTokenClassification from the checkpoint of a model trained on another task or with another architecture (e.g. initializing a BertForSequenceClassification model from a BertForPreTraining model).\n",
      "- This IS NOT expected if you are initializing BertForTokenClassification from the checkpoint of a model that you expect to be exactly identical (initializing a BertForSequenceClassification model from a BertForSequenceClassification model).\n"
     ]
    }
   ],
   "source": [
    "# 导入所需的库\n",
    "from transformers import pipeline\n",
    "\n",
    "# 创建一个命名实体识别（NER）的pipeline，使用预训练模型\"dslimbert-base-NER\"\n",
    "get_completion = pipeline(\"ner\", model=\"dslimbert-base-NER\")\n",
    "\n",
    "# 定义一个函数用于进行命名实体识别\n",
    "def ner(input):\n",
    "    # 使用pipeline进行命名实体识别\n",
    "    output = get_completion(input)\n",
    "    # 返回一个字典，包含原始输入文本和识别到的命名实体\n",
    "    return {\"text\": input, \"entities\": output}"
   ]
  },
  {
   "cell_type": "markdown",
   "id": "0db4a922-b300-4dbc-8768-955b6a18dce4",
   "metadata": {
    "height": 64
   },
   "source": [
    "如果你想使用在线api，那请使用以下代码\n",
    "```python\n",
    "    API_URL = os.environ['HF_API_NER_BASE'] #NER endpoint\n",
    "    text = \"My name is Andrew, I'm building DeepLearningAI and I live in California\"\n",
    "    get_completion(text, parameters=None, ENDPOINT_URL= API_URL)\n",
    "    def ner(input):\n",
    "        output = get_completion(input, parameters=None, ENDPOINT_URL=API_URL)\n",
    "        return {\"text\": input, \"entities\": output}\n",
    "```"
   ]
  },
  {
   "cell_type": "markdown",
   "id": "02ff3705",
   "metadata": {},
   "source": [
    "这里相对上面的gr.Interface有几个参数不同，稍微解释一下：\n",
    "\n",
    "- allow_flagging=\"never\": 这将禁止用户标记内容，不允许标记不良或不恰当的内容。\n",
    "- examples=[\"My name is Andrew and I live in California\", \"My name is Poli and work at HuggingFace\"]: 这里提供了两个示例输入，用于展示界面功能。用户可以在文本框中直接加载这些示例文本，以查看命名实体识别的效果。\n",
    "- gr.HighlightedText 是 Gradio 中的一个部件（widget），用于在文本中高亮显示特定文本片段。在这个场景中，它被用来显示带有标记实体的文本。"
   ]
  },
  {
   "cell_type": "code",
   "execution_count": 10,
   "id": "e87e36a1",
   "metadata": {},
   "outputs": [
    {
     "name": "stdout",
     "output_type": "stream",
     "text": [
      "Closing server running on port: 7860\n",
      "Closing server running on port: 7860\n",
      "Running on local URL:  http://127.0.0.1:7860\n",
      "Running on public URL: https://a2ac9aecfb07d99d22.gradio.live\n",
      "\n",
      "This share link expires in 72 hours. For free permanent hosting and GPU upgrades, run `gradio deploy` from Terminal to deploy to Spaces (https://huggingface.co/spaces)\n"
     ]
    },
    {
     "data": {
      "text/html": [
       "<div><iframe src=\"https://a2ac9aecfb07d99d22.gradio.live\" width=\"100%\" height=\"500\" allow=\"autoplay; camera; microphone; clipboard-read; clipboard-write;\" frameborder=\"0\" allowfullscreen></iframe></div>"
      ],
      "text/plain": [
       "<IPython.core.display.HTML object>"
      ]
     },
     "metadata": {},
     "output_type": "display_data"
    },
    {
     "data": {
      "text/plain": []
     },
     "execution_count": 10,
     "metadata": {},
     "output_type": "execute_result"
    }
   ],
   "source": [
    "# 导入所需的库\n",
    "import gradio as gr\n",
    "\n",
    "# 定义命名实体识别（NER）函数，与之前定义的ner函数相同\n",
    "def ner(input):\n",
    "    output = get_completion(input)\n",
    "    return {\"text\": input, \"entities\": output}\n",
    "\n",
    "# 关闭所有之前的Gradio界面（如果有的话）\n",
    "gr.close_all()\n",
    "\n",
    "# 创建Gradio界面\n",
    "demo = gr.Interface(\n",
    "    fn=ner,  # 指定用于处理输入的函数\n",
    "    inputs=[gr.Textbox(label=\"Text to find entities\", lines=2)],  # 输入部分的设置\n",
    "    outputs=[gr.HighlightedText(label=\"Text with entities\")],  # 输出部分的设置\n",
    "    title=\"NER with dslim/bert-base-NER\",  # 界面标题\n",
    "    description=\"Find entities using the `dslim/bert-base-NER` model under the hood!\",  # 界面描述\n",
    "    allow_flagging=\"never\",  # 设置不允许标记内容\n",
    "    examples=[  # 提供易于使用的示例输入，用于展示界面功能\n",
    "        \"My name is Andrew and I live in California\",\n",
    "        \"My name is Poli and work at HuggingFace\"\n",
    "    ]\n",
    ")\n",
    "\n",
    "# 启动共享模式的界面，允许其他用户访问\n",
    "demo.launch(share=True)"
   ]
  },
  {
   "cell_type": "markdown",
   "id": "60f16ad4",
   "metadata": {},
   "source": [
    "### 添加一个辅助函数来合并tokens"
   ]
  },
  {
   "cell_type": "code",
   "execution_count": 12,
   "id": "4dc278e9-87b4-420b-89e9-7120dc4be754",
   "metadata": {
    "height": 540
   },
   "outputs": [
    {
     "name": "stdout",
     "output_type": "stream",
     "text": [
      "Closing server running on port: 7860\n",
      "Closing server running on port: 7860\n",
      "Closing server running on port: 7860\n",
      "Closing server running on port: 7860\n",
      "Running on local URL:  http://127.0.0.1:7860\n",
      "Running on public URL: https://ba40acf4f9100b70a2.gradio.live\n",
      "\n",
      "This share link expires in 72 hours. For free permanent hosting and GPU upgrades, run `gradio deploy` from Terminal to deploy to Spaces (https://huggingface.co/spaces)\n"
     ]
    },
    {
     "data": {
      "text/html": [
       "<div><iframe src=\"https://ba40acf4f9100b70a2.gradio.live\" width=\"100%\" height=\"500\" allow=\"autoplay; camera; microphone; clipboard-read; clipboard-write;\" frameborder=\"0\" allowfullscreen></iframe></div>"
      ],
      "text/plain": [
       "<IPython.core.display.HTML object>"
      ]
     },
     "metadata": {},
     "output_type": "display_data"
    },
    {
     "data": {
      "text/plain": []
     },
     "execution_count": 12,
     "metadata": {},
     "output_type": "execute_result"
    }
   ],
   "source": [
    "# 定义一个函数，用于将相同实体的多个分词合并为一个实体\n",
    "def merge_tokens(tokens):\n",
    "    merged_tokens = []\n",
    "    for token in tokens:\n",
    "        if merged_tokens and token['entity'].startswith('I-') and merged_tokens[-1]['entity'].endswith(token['entity'][2:]):\n",
    "            # 如果当前分词延续了上一个实体，将它们合并\n",
    "            last_token = merged_tokens[-1]\n",
    "            last_token['word'] += token['word'].replace('##', '')\n",
    "            last_token['end'] = token['end']\n",
    "            last_token['score'] = (last_token['score'] + token['score']) / 2\n",
    "        else:\n",
    "            # 否则，将分词添加到合并后的实体列表中\n",
    "            merged_tokens.append(token)\n",
    "\n",
    "    return merged_tokens\n",
    "\n",
    "# NER函数，与之前类似，但在输出前使用merge_tokens函数合并实体分词\n",
    "def ner(input):\n",
    "    output = get_completion(input)\n",
    "    return {\"text\": input, \"entities\": output}\n",
    "\n",
    "# 关闭之前的Gradio界面（如果有的话）\n",
    "gr.close_all()\n",
    "\n",
    "# 创建Gradio界面，与之前类似，但在NER函数中使用了合并后的实体分词\n",
    "demo = gr.Interface(\n",
    "    fn=ner,\n",
    "    inputs=[gr.Textbox(label=\"Text to find entities\", lines=2)],\n",
    "    outputs=[gr.HighlightedText(label=\"Text with entities\")],\n",
    "    title=\"NER with dslim/bert-base-NER\",\n",
    "    description=\"Find entities using the `dslim/bert-base-NER` model under the hood!\",\n",
    "    allow_flagging=\"never\",\n",
    "    examples=[\n",
    "        \"My name is Andrew, I'm building DeeplearningAI and I live in California\",\n",
    "        \"My name is Poli, I live in Vienna and work at HuggingFace\"\n",
    "    ]\n",
    ")\n",
    "\n",
    "# 启动共享模式的界面，允许其他用户访问\n",
    "demo.launch(share=True)"
   ]
  },
  {
   "cell_type": "code",
   "execution_count": null,
   "id": "3cccdb9b-0c3a-406e-95bc-106705aeb010",
   "metadata": {
    "height": 30
   },
   "outputs": [],
   "source": [
    "gr.close_all()"
   ]
  }
 ],
 "metadata": {
  "kernelspec": {
   "display_name": "gpt",
   "language": "python",
   "name": "gpt"
  },
  "language_info": {
   "codemirror_mode": {
    "name": "ipython",
    "version": 3
   },
   "file_extension": ".py",
   "mimetype": "text/x-python",
   "name": "python",
   "nbconvert_exporter": "python",
   "pygments_lexer": "ipython3",
   "version": "3.8.17"
  }
 },
 "nbformat": 4,
 "nbformat_minor": 5
}
