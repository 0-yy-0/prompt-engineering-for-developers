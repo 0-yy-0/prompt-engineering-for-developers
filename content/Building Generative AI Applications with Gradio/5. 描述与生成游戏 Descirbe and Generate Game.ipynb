{
 "cells": [
  {
   "attachments": {},
   "cell_type": "markdown",
   "id": "6652a472",
   "metadata": {},
   "source": [
    "# 第五章 描述和生成游戏 🖍️"
   ]
  },
  {
   "attachments": {},
   "cell_type": "markdown",
   "id": "b6b9f7db",
   "metadata": {},
   "source": [
    "##  一、背景"
   ]
  },
  {
   "attachments": {},
   "cell_type": "markdown",
   "id": "365e3f63",
   "metadata": {},
   "source": [
    "本章，我们将通过结合图片文字描述应用程序（第二章）以及文字图片生成应用程序（第四章）来构建一个简单的游戏，即先对图像进行描述，然后通过模型产生的描述再生成一张图片。"
   ]
  },
  {
   "attachments": {},
   "cell_type": "markdown",
   "id": "acaa560b",
   "metadata": {},
   "source": [
    "## 二、环境配置"
   ]
  },
  {
   "attachments": {},
   "cell_type": "markdown",
   "id": "6b21aa74",
   "metadata": {},
   "source": [
    "加载 HF API 和相关的 Python API。"
   ]
  },
  {
   "cell_type": "code",
   "execution_count": null,
   "id": "92f16527-fcab-41e0-bce8-634fae58b1b8",
   "metadata": {},
   "outputs": [],
   "source": [
    "import os\n",
    "import io\n",
    "from IPython.display import Image, display, HTML\n",
    "from PIL import Image\n",
    "import base64 \n",
    "\n",
    "from dotenv import load_dotenv, find_dotenv\n",
    "_ = load_dotenv(find_dotenv()) # read local .env file\n",
    "hf_api_key = os.environ['HF_API_KEY']"
   ]
  },
  {
   "attachments": {},
   "cell_type": "markdown",
   "id": "a3e878ec",
   "metadata": {},
   "source": [
    "## 三、核心 API 调用"
   ]
  },
  {
   "cell_type": "code",
   "execution_count": null,
   "id": "ac9eab7f-4013-42ec-b34e-b413b0f8adb6",
   "metadata": {},
   "outputs": [],
   "source": [
    "import requests, json\n",
    "\n",
    "# 我们将会通过这个函数即调用图像描述模型，也调用图像生成模型\n",
    "def get_completion(inputs, parameters=None, ENDPOINT_URL=\"\"):\n",
    "    headers = {\n",
    "      \"Authorization\": f\"Bearer {hf_api_key}\",\n",
    "      \"Content-Type\": \"application/json\"\n",
    "    }   \n",
    "    data = { \"inputs\": inputs }\n",
    "    if parameters is not None:\n",
    "        data.update({\"parameters\": parameters})\n",
    "    response = requests.request(\"POST\",\n",
    "                                ENDPOINT_URL,\n",
    "                                headers=headers,\n",
    "                                data=json.dumps(data))\n",
    "    return json.loads(response.content.decode(\"utf-8\"))"
   ]
  },
  {
   "cell_type": "code",
   "execution_count": null,
   "id": "52cb1837",
   "metadata": {},
   "outputs": [],
   "source": [
    "#图像生成模型 API\n",
    "TTI_ENDPOINT = os.environ['HF_API_TTI_BASE']\n",
    "#图像描述模型 API\n",
    "ITT_ENDPOINT = os.environ['HF_API_ITT_BASE']"
   ]
  },
  {
   "attachments": {},
   "cell_type": "markdown",
   "id": "b3f9c4d4",
   "metadata": {},
   "source": [
    "## 四、通过 `gr.Blocks()` 构建简单的游戏"
   ]
  },
  {
   "attachments": {},
   "cell_type": "markdown",
   "id": "8f002516",
   "metadata": {},
   "source": [
    "将前几课我们用到的图片到base64、base64到图片、图片描述、图片生成的函数整理如下。"
   ]
  },
  {
   "cell_type": "code",
   "execution_count": null,
   "id": "76170d93-0de0-4359-8f13-3d1bcc41f86a",
   "metadata": {},
   "outputs": [],
   "source": [
    "#Bringing the functions from lessons 3 and 4!\n",
    "# PIL 图像转换为 base64 字符串\n",
    "def image_to_base64_str(pil_image):\n",
    "    byte_arr = io.BytesIO()\n",
    "    pil_image.save(byte_arr, format='PNG')\n",
    "    byte_arr = byte_arr.getvalue()\n",
    "    return str(base64.b64encode(byte_arr).decode('utf-8'))\n",
    "\n",
    "# base64 字符串转换为 PIL 图像\n",
    "def base64_to_pil(img_base64):\n",
    "    base64_decoded = base64.b64decode(img_base64)\n",
    "    byte_stream = io.BytesIO(base64_decoded)\n",
    "    pil_image = Image.open(byte_stream)\n",
    "    return pil_image\n",
    "\n",
    "# 图像描述\n",
    "def captioner(image):\n",
    "    base64_image = image_to_base64_str(image)\n",
    "    result = get_completion(base64_image, None, ITT_ENDPOINT)\n",
    "    return result[0]['generated_text']\n",
    "\n",
    "# 图像生成\n",
    "def generate(prompt):\n",
    "    output = get_completion(prompt, None, TTI_ENDPOINT)\n",
    "    result_image = base64_to_pil(output)\n",
    "    return result_image"
   ]
  },
  {
   "attachments": {},
   "cell_type": "markdown",
   "id": "bd1f3485",
   "metadata": {},
   "source": [
    "### 4.1 第一步：图片描述"
   ]
  },
  {
   "cell_type": "markdown",
   "id": "69c3e60d",
   "metadata": {},
   "source": [
    "我们先用 Gradio 复现图像描述的 GUI。"
   ]
  },
  {
   "cell_type": "code",
   "execution_count": null,
   "id": "64e403a9-bfcb-47e8-b741-743d5f4980fd",
   "metadata": {},
   "outputs": [],
   "source": [
    "import gradio as gr \n",
    "with gr.Blocks() as demo:\n",
    "    gr.Markdown(\"# 描述和生成游戏\")\n",
    "    image_upload = gr.Image(label=\"你的第一张图片\",type=\"pil\")\n",
    "    btn_caption = gr.Button(\"生成描述\")\n",
    "    caption = gr.Textbox(label=\"生成的描述\")\n",
    "    \n",
    "    btn_caption.click(fn=captioner, inputs=[image_upload], outputs=[caption])\n",
    "\n",
    "gr.close_all()\n",
    "demo.launch(share=True, server_port=int(os.environ['PORT1']))"
   ]
  },
  {
   "cell_type": "markdown",
   "id": "a372b36d",
   "metadata": {},
   "source": [
    "![Describe](images/ch06_5_1_Describe.png)"
   ]
  },
  {
   "attachments": {},
   "cell_type": "markdown",
   "id": "966cd4e8",
   "metadata": {},
   "source": [
    "### 4.2 第二步：添加图像生成"
   ]
  },
  {
   "cell_type": "markdown",
   "id": "7215d0cf",
   "metadata": {},
   "source": [
    "然后，我们将图像生成功能加入到之前制作的图像描述 GUI 中。"
   ]
  },
  {
   "cell_type": "code",
   "execution_count": null,
   "id": "c5ea9a93-9f97-43f8-86ca-2e8e4ea9dda8",
   "metadata": {},
   "outputs": [],
   "source": [
    "with gr.Blocks() as demo:\n",
    "    gr.Markdown(\"# 描述和生成游戏 🖍️\")\n",
    "    image_upload = gr.Image(label=\"你的第一张图片\",type=\"pil\")\n",
    "    btn_caption = gr.Button(\"生成描述\")\n",
    "    caption = gr.Textbox(label=\"生成的描述\")\n",
    "    btn_image = gr.Button(\"生成图片\")\n",
    "    image_output = gr.Image(label=\"生成的图片\")\n",
    "    btn_caption.click(fn=captioner, inputs=[image_upload], outputs=[caption])\n",
    "    btn_image.click(fn=generate, inputs=[caption], outputs=[image_output])\n",
    "\n",
    "gr.close_all()\n",
    "demo.launch(share=True, server_port=int(os.environ['PORT2']))"
   ]
  },
  {
   "cell_type": "markdown",
   "id": "a627206d",
   "metadata": {},
   "source": [
    "![Add Generate](images/ch06_5_2_Add_Generate.png)"
   ]
  },
  {
   "attachments": {},
   "cell_type": "markdown",
   "id": "22da53d1",
   "metadata": {},
   "source": [
    "### 4.3 合并前两步：直接输入图片得到输出图片"
   ]
  },
  {
   "cell_type": "markdown",
   "id": "7f41b457",
   "metadata": {},
   "source": [
    "上面我们制作的 GUI 需要分别点击“描述”和“生成”两个按键，现在我们将两个按键统一为一个“描述和生成”按键。这样，我们就可以一步得到重新生成的图片。"
   ]
  },
  {
   "cell_type": "code",
   "execution_count": null,
   "id": "024a4529-7f38-41fb-aab3-c38525b61abe",
   "metadata": {},
   "outputs": [],
   "source": [
    "def caption_and_generate(image):\n",
    "    caption = captioner(image)\n",
    "    image = generate(caption)\n",
    "    return [caption, image]\n",
    "\n",
    "with gr.Blocks() as demo:\n",
    "    gr.Markdown(\"# Describe-and-Generate game 🖍️\")\n",
    "    image_upload = gr.Image(label=\"Your first image\",type=\"pil\")\n",
    "    btn_all = gr.Button(\"Caption and generate\")\n",
    "    caption = gr.Textbox(label=\"Generated caption\")\n",
    "    image_output = gr.Image(label=\"Generated Image\")\n",
    "\n",
    "    btn_all.click(fn=caption_and_generate, inputs=[image_upload], outputs=[caption, image_output])\n",
    "\n",
    "gr.close_all()\n",
    "demo.launch(share=True, server_port=int(os.environ['PORT3']))"
   ]
  },
  {
   "cell_type": "markdown",
   "id": "7e109a4f",
   "metadata": {},
   "source": [
    "![Describe and Generate](images/ch06_5_3_Describe_Generate.png)"
   ]
  },
  {
   "cell_type": "code",
   "execution_count": null,
   "id": "1d45338b",
   "metadata": {},
   "outputs": [],
   "source": [
    "gr.close_all()"
   ]
  }
 ],
 "metadata": {
  "kernelspec": {
   "display_name": "Python 3 (ipykernel)",
   "language": "python",
   "name": "python3"
  },
  "language_info": {
   "codemirror_mode": {
    "name": "ipython",
    "version": 3
   },
   "file_extension": ".py",
   "mimetype": "text/x-python",
   "name": "python",
   "nbconvert_exporter": "python",
   "pygments_lexer": "ipython3",
   "version": "3.8.16"
  }
 },
 "nbformat": 4,
 "nbformat_minor": 5
}
