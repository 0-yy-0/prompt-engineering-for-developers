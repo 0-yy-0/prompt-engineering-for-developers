{
 "cells": [
  {
   "cell_type": "markdown",
   "id": "adf933f7",
   "metadata": {},
   "source": [
    "# L1: Image captioning app 🖼️📝"
   ]
  },
  {
   "cell_type": "markdown",
   "id": "8b8996b4",
   "metadata": {},
   "source": [
    "加载HF API密钥和相关Python库"
   ]
  },
  {
   "cell_type": "code",
   "execution_count": 1,
   "id": "3471d1ed-41a0-473c-b3c7-99a9e14dffaf",
   "metadata": {
    "height": 149
   },
   "outputs": [],
   "source": [
    "import os\n",
    "import io\n",
    "import IPython.display\n",
    "from PIL import Image\n",
    "import base64 \n",
    "from dotenv import load_dotenv, find_dotenv\n",
    "_ = load_dotenv(find_dotenv()) # read local .env file\n",
    "hf_api_key = os.environ['HF_API_KEY']"
   ]
  },
  {
   "cell_type": "code",
   "execution_count": null,
   "id": "05896028-3b43-408e-a899-109bde9625e5",
   "metadata": {
    "height": 319
   },
   "outputs": [],
   "source": [
    "# Helper functions\n",
    "import requests, json\n",
    "\n",
    "#Image-to-text endpoint\n",
    "def get_completion(inputs, parameters=None, ENDPOINT_URL=os.environ['HF_API_ITT_BASE']): \n",
    "    headers = {\n",
    "      \"Authorization\": f\"Bearer {hf_api_key}\",\n",
    "      \"Content-Type\": \"application/json\"\n",
    "    }\n",
    "    data = { \"inputs\": inputs }\n",
    "    if parameters is not None:\n",
    "        data.update({\"parameters\": parameters})\n",
    "    response = requests.request(\"POST\",\n",
    "                                ENDPOINT_URL,\n",
    "                                headers=headers,\n",
    "                                data=json.dumps(data))\n",
    "    return json.loads(response.content.decode(\"utf-8\"))"
   ]
  },
  {
   "cell_type": "markdown",
   "id": "2541e21e",
   "metadata": {},
   "source": [
    "## 构建一个图片标题App "
   ]
  },
  {
   "cell_type": "markdown",
   "id": "f1ca462d",
   "metadata": {},
   "source": [
    "在这里，我们将使用一个[Inference Endpoint](https://huggingface.co/inference-endpoints)用于“Salesforce/blip-image-caption-base”一个14M参数的字幕模型。"
   ]
  },
  {
   "cell_type": "markdown",
   "id": "f9e3deb8",
   "metadata": {},
   "source": [
    "如果在本地运行而不是从API运行，代码看起来会非常相似。您可以查看[Pipelines](https://huggingface.co/docs/transformers/main_classes/pipelines)文档页面。"
   ]
  },
  {
   "cell_type": "markdown",
   "id": "84d7cb69",
   "metadata": {},
   "source": [
    "此处笔者选择使用本地模型，模型下载地址：https://huggingface.co/Salesforce/blip-image-captioning-base"
   ]
  },
  {
   "cell_type": "code",
   "execution_count": 14,
   "id": "b83f8ea8",
   "metadata": {},
   "outputs": [],
   "source": [
    "# 导入所需的库\n",
    "from transformers import pipeline\n",
    "\n",
    "# 创建一个图像描述生成的pipeline，使用预训练模型\"Salesforceblip-image-captioning-base\"\n",
    "get_completion = pipeline(\"image-to-text\", model=\"Salesforceblip-image-captioning-base\")\n",
    "\n",
    "# 定义一个函数用于生成图像描述\n",
    "def generate_image_caption(input):\n",
    "    # 使用pipeline生成图像描述\n",
    "    output = get_completion(input)\n",
    "    # 返回生成的图像描述\n",
    "    return output[0]['generated_text']"
   ]
  },
  {
   "cell_type": "markdown",
   "id": "b98cf3f7",
   "metadata": {},
   "source": [
    "The free images are available on: https://free-images.com/"
   ]
  },
  {
   "cell_type": "code",
   "execution_count": 13,
   "id": "eb7154b9-fa1c-416e-8ee2-635c27720539",
   "metadata": {
    "height": 64
   },
   "outputs": [
    {
     "data": {
      "text/html": [
       "<img src=\"https://free-images.com/sm/9596/dog_animal_greyhound_983023.jpg\"/>"
      ],
      "text/plain": [
       "<IPython.core.display.Image object>"
      ]
     },
     "metadata": {},
     "output_type": "display_data"
    },
    {
     "name": "stderr",
     "output_type": "stream",
     "text": [
      "d:\\anaconda\\anaconda_install\\envs\\gpt\\lib\\site-packages\\transformers\\generation\\utils.py:1369: UserWarning: Using `max_length`'s default (20) to control the generation length. This behaviour is deprecated and will be removed from the config in v5 of Transformers -- we recommend using `max_new_tokens` to control the maximum length of the generation.\n",
      "  warnings.warn(\n"
     ]
    },
    {
     "data": {
      "text/plain": [
       "[{'generated_text': 'a dog wearing a santa hat and scarf'}]"
      ]
     },
     "execution_count": 13,
     "metadata": {},
     "output_type": "execute_result"
    }
   ],
   "source": [
    "# # 图像URL\n",
    "image_url = \"https://free-images.com/sm/9596/dog_animal_greyhound_983023.jpg\"\n",
    "# # 显示图像\n",
    "display(IPython.display.Image(url=image_url))\n",
    "# 创建图像描述生成的pipeline，使用预训练模型\"Salesforceblip-image-captioning-base\"\n",
    "get_completion(image_url)"
   ]
  },
  {
   "cell_type": "markdown",
   "id": "90da616d",
   "metadata": {},
   "source": [
    "## 图片标题APP `gr.Interface()`"
   ]
  },
  {
   "cell_type": "markdown",
   "id": "3f35c460",
   "metadata": {},
   "source": [
    "参数解析\n",
    "\n",
    "- fn=captioner: 这是用于处理输入的函数，即图像描述生成函数 captioner。\n",
    "- inputs=[gr.Image(label=\"Upload image\", type=\"pil\")]: 这定义了输入部分。使用 gr.Image 部件来允许用户上传图像，label 参数设置了输入部件的标签，type 参数指定输入类型为PIL图像。\n",
    "- outputs=[gr.Textbox(label=\"Caption\")]: 这定义了输出部分。使用 gr.Textbox 部件来显示生成的图像描述，label 参数设置了输出部件的标签。\n",
    "- title=\"Image Captioning with BLIP\": 这是界面的标题，将显示在界面的顶部。\n",
    "- description=\"Caption any image using the BLIP model\": 这是界面的描述，提供有关界面功能的更多信息。\n",
    "- allow_flagging=\"never\": 这设置了不允许标记内容，确保不会显示标记不恰当内容的选项。\n",
    "- examples=[...]: 这提供了一组示例图像文件名，用于展示界面功能。用户可以从这些示例中选择图像来查看生成的描述。"
   ]
  },
  {
   "cell_type": "code",
   "execution_count": 20,
   "id": "8021fac0-9300-44d5-adb1-6ac7111f38f6",
   "metadata": {
    "height": 421
   },
   "outputs": [
    {
     "name": "stdout",
     "output_type": "stream",
     "text": [
      "Closing server running on port: 7860\n",
      "Closing server running on port: 7860\n",
      "Closing server running on port: 7860\n",
      "Closing server running on port: 7860\n",
      "Closing server running on port: 7860\n",
      "Closing server running on port: 7860\n",
      "Running on local URL:  http://127.0.0.1:7860\n",
      "Running on public URL: https://f03fdaaeba3ac05664.gradio.live\n",
      "\n",
      "This share link expires in 72 hours. For free permanent hosting and GPU upgrades, run `gradio deploy` from Terminal to deploy to Spaces (https://huggingface.co/spaces)\n"
     ]
    },
    {
     "data": {
      "text/html": [
       "<div><iframe src=\"https://f03fdaaeba3ac05664.gradio.live\" width=\"100%\" height=\"500\" allow=\"autoplay; camera; microphone; clipboard-read; clipboard-write;\" frameborder=\"0\" allowfullscreen></iframe></div>"
      ],
      "text/plain": [
       "<IPython.core.display.HTML object>"
      ]
     },
     "metadata": {},
     "output_type": "display_data"
    },
    {
     "data": {
      "text/plain": []
     },
     "execution_count": 20,
     "metadata": {},
     "output_type": "execute_result"
    }
   ],
   "source": [
    "# 导入所需的库\n",
    "import gradio as gr\n",
    "import io\n",
    "import base64\n",
    "\n",
    "# 将PIL图像转换为base64编码的字符串\n",
    "def image_to_base64_str(pil_image):\n",
    "    byte_arr = io.BytesIO()\n",
    "    pil_image.save(byte_arr, format='PNG')\n",
    "    byte_arr = byte_arr.getvalue()\n",
    "    return str(base64.b64encode(byte_arr).decode('utf-8'))\n",
    "\n",
    "# 图像描述生成函数，类似于之前定义的函数\n",
    "def captioner(image):\n",
    "    # 将上传的图像转换为base64字符串\n",
    "    base64_image = image_to_base64_str(image)\n",
    "    # 使用图像描述生成的pipeline生成图像描述\n",
    "    result = get_completion(base64_image)\n",
    "    return result[0]['generated_text']\n",
    "\n",
    "# 关闭之前的Gradio界面（如果有的话）\n",
    "gr.close_all()\n",
    "\n",
    "# 创建Gradio界面，接受上传的图像并显示描述\n",
    "demo = gr.Interface(\n",
    "    fn=captioner,  # 指定用于处理输入的函数\n",
    "    inputs=[gr.Image(label=\"Upload image\", type=\"pil\")],  # 输入部分的设置，允许上传图像\n",
    "    outputs=[gr.Textbox(label=\"Caption\")],  # 输出部分的设置，显示生成的图像描述\n",
    "    title=\"Image Captioning with BLIP\",  # 界面标题\n",
    "    description=\"Caption any image using the BLIP model\",  # 界面描述\n",
    "    allow_flagging=\"never\",  # 设置不允许标记内容\n",
    ")\n",
    "\n",
    "# 启动共享模式的界面，允许其他用户访问\n",
    "demo.launch(share=True)\n"
   ]
  },
  {
   "cell_type": "code",
   "execution_count": 21,
   "id": "4e036a7f-c34b-42d3-84bc-ca7da41bccb6",
   "metadata": {
    "height": 30
   },
   "outputs": [
    {
     "name": "stdout",
     "output_type": "stream",
     "text": [
      "Closing server running on port: 7860\n",
      "Closing server running on port: 7860\n",
      "Closing server running on port: 7860\n",
      "Closing server running on port: 7860\n",
      "Closing server running on port: 7860\n",
      "Closing server running on port: 7860\n",
      "Closing server running on port: 7860\n"
     ]
    }
   ],
   "source": [
    "gr.close_all()"
   ]
  }
 ],
 "metadata": {
  "kernelspec": {
   "display_name": "gpt",
   "language": "python",
   "name": "gpt"
  },
  "language_info": {
   "codemirror_mode": {
    "name": "ipython",
    "version": 3
   },
   "file_extension": ".py",
   "mimetype": "text/x-python",
   "name": "python",
   "nbconvert_exporter": "python",
   "pygments_lexer": "ipython3",
   "version": "3.8.17"
  }
 },
 "nbformat": 4,
 "nbformat_minor": 5
}
