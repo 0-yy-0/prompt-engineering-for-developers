{
 "cells": [
  {
   "cell_type": "markdown",
   "id": "bc0c33a4",
   "metadata": {},
   "source": [
    "# 第八章、总结"
   ]
  },
  {
   "cell_type": "markdown",
   "id": "9d273d1f",
   "metadata": {},
   "source": [
    "这次课程的内容包括：\n",
    "1. 使用 LangChain 的 80 多种文档装载器从各种文档源中加载数据。\n",
    "2. 将这些文档分割成块，并讨论了其中的一些微妙之处。\n",
    "3. 为这些块创建了 Embedding，并将它们放入向量存储器中，并轻松实现语义搜索。\n",
    "4. 讨论了语义搜索的一些缺点，以及在某些边缘情况中可能会发生的搜索失败。\n",
    "5. 介绍了许多新的高级且有趣的检索算法，用于克服那些边缘情况。\n",
    "6. 与 LLMs 相结合，将检索到的文档，和用户问题传递给 LLM，生成对原始问题的答案。\n",
    "7. 对对话内容进行了补全，创建了一个完全功能的、端到端的聊天机器人。\n",
    "\n",
    "**💪🏻 出发 去探索新世界吧**\n",
    "\n",
    "希望您们在学习过程中受益匪浅。\n",
    "\n",
    "也感谢开源社区为这个课程做出贡献，如果您在 LangChain 上发现了新的功能和技巧，希望您分享到 Twitter 或者 github 上。\n",
    "\n",
    "这是一个快速发展的领域，非常令人激动。期待看到您们将所学应用到实际中的样子。"
   ]
  }
 ],
 "metadata": {
  "kernelspec": {
   "display_name": "Python 3 (ipykernel)",
   "language": "python",
   "name": "python3"
  },
  "language_info": {
   "codemirror_mode": {
    "name": "ipython",
    "version": 3
   },
   "file_extension": ".py",
   "mimetype": "text/x-python",
   "name": "python",
   "nbconvert_exporter": "python",
   "pygments_lexer": "ipython3",
   "version": "3.9.12"
  },
  "toc": {
   "base_numbering": 1,
   "nav_menu": {},
   "number_sections": false,
   "sideBar": true,
   "skip_h1_title": false,
   "title_cell": "Table of Contents",
   "title_sidebar": "Contents",
   "toc_cell": false,
   "toc_position": {},
   "toc_section_display": true,
   "toc_window_display": true
  }
 },
 "nbformat": 4,
 "nbformat_minor": 5
}
