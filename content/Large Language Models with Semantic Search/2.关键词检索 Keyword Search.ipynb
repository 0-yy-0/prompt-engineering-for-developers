{
 "cells": [
  {
   "cell_type": "markdown",
   "id": "de00cd57",
   "metadata": {},
   "source": [
    "# 第二章 关键词检索\n",
    "\n",
    "\n",
    "在本章中，您将学习如何使用关键词检索（Keyword Search）并利用数据库回答问题。搜索在我们的日常生活中很常见，它包括搜索引擎，也包括在应用程序内部进行搜索，比如在 Spotify、YouTube 或 Google 地图中进行搜索。公司和组织也需要使用关键词检索或其他各种搜索方法来搜索其内部文件。关键词检索是构建搜索系统最常用的方法。接下来，让我们看看如何使用关键词检索系统，然后再看看语言模型如何改进这些系统。\n",
    "\n",
    "在本章教程中，我们需要用到 Weaviate 和 Cohere 的 API key。\n",
    "\n",
    "## 目录\n",
    "\n",
    "- [一、环境配置](#一、)\n",
    "\n",
    "- [二、Weaviate 数据库](#二、)\n",
    "\n",
    "  - [2.1 进行身份验证配置](#2.1)\n",
    "  \n",
    "  - [2.2 连接数据库](#2.2)\n",
    "  \n",
    "- [三、关键词检索](#三、)\n",
    "\n",
    "  - [3.1 构建关键词检索函数](#3.1)\n",
    "  \n",
    "  - [3.2 使用关键词检索函数](#3.2)\n",
    "  \n",
    "- [四、关键词检索的更深理解](#四、)\n",
    "\n",
    "- [五、关键词检索的限制](#五、)"
   ]
  },
  {
   "cell_type": "markdown",
   "id": "96fba2b4",
   "metadata": {},
   "source": [
    "## 一、环境配置  <a id=\"一、\"></a>\n",
    "\n",
    "让我们先准备好需要用到的一些 Python 库和 API："
   ]
  },
  {
   "cell_type": "code",
   "execution_count": null,
   "id": "e9490c46",
   "metadata": {},
   "outputs": [],
   "source": [
    "!pip install cohere\n",
    "!pip install weaviate-client\n",
    "!pip install python-dotenv"
   ]
  },
  {
   "cell_type": "code",
   "execution_count": null,
   "id": "b93ae1d6",
   "metadata": {},
   "outputs": [],
   "source": [
    "import os\n",
    "from dotenv import load_dotenv, find_dotenv\n",
    "_ = load_dotenv(find_dotenv()) # 读取本地 .env 文件"
   ]
  },
  {
   "cell_type": "markdown",
   "id": "85956239",
   "metadata": {},
   "source": [
    "## 二、Weaviate 数据库  <a id=\"二、\"></a>\n",
    "\n",
    "Weaviate 是一个开源数据库。它具有关键词检索功能，也具有依赖于语言模型的向量检索功能。"
   ]
  },
  {
   "cell_type": "markdown",
   "id": "9e94a721",
   "metadata": {},
   "source": [
    "### 2.1 进行身份验证配置  <a id=\"2.1\"></a>"
   ]
  },
  {
   "cell_type": "code",
   "execution_count": null,
   "id": "daf3bf34",
   "metadata": {},
   "outputs": [],
   "source": [
    "import weaviate\n",
    "auth_config = weaviate.auth.AuthApiKey(\n",
    "    api_key=os.environ['WEAVIATE_API_KEY'])  # 获取环境变量中的 Weaviate API 密钥，进行身份验证。"
   ]
  },
  {
   "cell_type": "markdown",
   "id": "0299ac09",
   "metadata": {},
   "source": [
    "现在，我们已经设置了身份验证的配置，让我们看一下如何将客户端连接到实际数据库。"
   ]
  },
  {
   "cell_type": "markdown",
   "id": "ee87c6bf",
   "metadata": {},
   "source": [
    "### 2.2 连接数据库  <a id=\"2.2\"></a>"
   ]
  },
  {
   "cell_type": "markdown",
   "id": "f9cb68eb",
   "metadata": {},
   "source": [
    "+ weaviate.Client() ：Weaviate 客户端对象。\n",
    "\n",
    "+ url ：Weaviate 客户端的 URL 属性。这个 URL 指定了与 Weaviate 服务进行通信的位置。\n",
    "\n",
    "+ auth_client_secret ：Weaviate 客户端的身份验证密钥属性\n",
    "\n",
    "+ additional_headers ：额外的请求头信息。"
   ]
  },
  {
   "cell_type": "code",
   "execution_count": null,
   "id": "ec8fcd30",
   "metadata": {},
   "outputs": [],
   "source": [
    "client = weaviate.Client(\n",
    "    url=os.environ['WEAVIATE_API_URL'],  \n",
    "    auth_client_secret=auth_config,\n",
    "    additional_headers={\n",
    "        \"X-Cohere-Api-Key\": os.environ['COHERE_API_KEY'],  # 这里添加了一个名为 X-Cohere-Api-Key 的请求头，其值为环境变量中的 Cohere API 密钥。\n",
    "    }\n",
    ")"
   ]
  },
  {
   "cell_type": "markdown",
   "id": "309036ca",
   "metadata": {},
   "source": [
    "这个数据库是一个公共数据库，包含了 1000 万条记录。这些记录来自维基百科。每个单元格、每个记录、每一行都是来自维基百科的一个段落。\n",
    "这 1000 万条记录来自 10 种不同的语言。其中 100 万条是英文的，其余 900 万条是其他语言的。我们可以选择和过滤我们想要查询的语言，这个我们稍后会学到。\n",
    "\n",
    "运行下面这行代码后，我们确保客户端已经准备好并连接上了。如果返回 True，那就意味着我们的本地 Weaviate 客户端能够连接到远程 Weaviate 数据库。然后我们就能在这个数据集上进行关键词检索了。"
   ]
  },
  {
   "cell_type": "code",
   "execution_count": null,
   "id": "5681a67b",
   "metadata": {},
   "outputs": [],
   "source": [
    "print(client.is_ready())"
   ]
  },
  {
   "cell_type": "markdown",
   "id": "a8d45d69",
   "metadata": {},
   "source": [
    "## 三、关键词检索  <a id=\"三、\"></a>\n",
    "\n",
    "让我们先简单了解一下关键词检索。\n",
    "\n",
    "假设您有一个query（即“查询”）：“草是什么颜色？”，并且您在一个非常小的文档集中进行搜索，其中包含了以下五个句子：“明天是星期六”，“草是绿色的”，“加拿大的首都是渥太华”，“天空是蓝色的”，“鲸鱼是哺乳动物”。\n",
    "\n",
    "这是一个简单的搜索示例。关键词检索的工作原理是比较 **query** 和**文档**之间有多少共同的单词。如果我们比较 query 和第一句话之间有多少共同的单词，我们可以发现它们只有一个共同的词：“是”。\n",
    "我们可以统计这个文档集中每个句子的词语计数情况。然后我们可以发现第二个句子与查询有最多的共同词，因此关键词搜索可能会将其作为答案返回。\n",
    "\n",
    "下面我们开始学习如何使用关键词检索。\n"
   ]
  },
  {
   "cell_type": "markdown",
   "id": "95bf7f3d",
   "metadata": {},
   "source": [
    "### 3.1 构建关键词检索函数  <a id=\"3.1\"></a>\n",
    "\n",
    "在之前的代码中我们已经连接到数据库，现在让我们构建一个查询数据库的函数。我们将其称为\"keyword_search\"。\n",
    "\n",
    "我们首先输入\"response=()\"，然后在其中设置所需的参数。\n",
    "\n",
    "我们需要明确查找的集合类型，这里我们直接选择已经在数据库中定义好的 Articles（文章）类型。每篇 Articles 都有多个属性。\n",
    "\n",
    "对于这个搜索，我们希望在输入 query 时，能够返回每个结果的标题、URL 和正文。虽然还有其他许多属性，但我们暂时不需要数据库返回它们。因此，我们使用\"client.query.get(\"Articles\", properties)\"来构建查询请求，指定要查询的资源类型为 Articles ，并指定要返回的属性列表为 properties 参数的值。在属性列表中包含了标题、URL 和正文。\n",
    "\n",
    "接下来是关键词检索部分，我们使用\".with_bm25(query=query)\"将关键词查询 query 添加到查询请求中。这将使用 BM25 算法对 query 进行加权，以提高搜索结果的相关性。BM25 是一种常用的关键词检索或词汇搜索算法，根据一个特定的公式对数据中的文档与 query 进行评分，该公式考虑了 query 与每个文档之间共同出现的单词的数量。\n",
    "\n",
    "然后，我们使用\".with_where(where_filter)\"将语言过滤器添加到查询请求中，以限制搜索结果的语言，这里我们将其限制为英文。\n",
    "\n",
    "最后，使用\".with_limit(num_results)\"将结果数量限制添加到查询请求中，以指定要返回的搜索结果数量。在这里，我们将\"num_results\"设置为 3 ，即默认返回 3 条结果。\n",
    "\n",
    "有了这些，我们的查询就完成了。我们使用\".do()\"执行查询请求，并将结果存储在 response 变量中。现在函数可以获取响应并返回结果了。\n",
    "\n",
    "这就是我们的关键词检索函数。"
   ]
  },
  {
   "cell_type": "code",
   "execution_count": 1,
   "id": "fdb15f9c",
   "metadata": {},
   "outputs": [],
   "source": [
    "def keyword_search(query,\n",
    "                   results_lang='en',\n",
    "                   properties=[\"title\", \"url\", \"text\"],\n",
    "                   num_results=3):\n",
    "    \"\"\"\n",
    "    关键词搜索函数\n",
    "\n",
    "    参数：\n",
    "    query：要搜索的关键词\n",
    "    results_lang：搜索结果的语言，默认为英文（'en'）\n",
    "    properties：要返回的属性列表，默认为标题、URL和文本\n",
    "    num_results：要返回的结果数量，默认为 3 个\n",
    "\n",
    "    返回：\n",
    "    搜索结果列表\n",
    "    \"\"\"\n",
    "\n",
    "    # 构建过滤器，限制搜索结果的语言\n",
    "    where_filter = {\n",
    "        \"path\": [\"lang\"],\n",
    "        \"operator\": \"Equal\",\n",
    "        \"valueString\": results_lang\n",
    "    }\n",
    "\n",
    "    # 发送查询请求，获取搜索结果\n",
    "    response = (\n",
    "        client.query.get(\"Articles\", properties)\n",
    "        .with_bm25(\n",
    "            query=query\n",
    "        )\n",
    "        .with_where(where_filter)\n",
    "        .with_limit(num_results)\n",
    "        .do()\n",
    "    )\n",
    "\n",
    "    # 提取搜索结果\n",
    "    result = response['data']['Get']['Articles']\n",
    "    return result"
   ]
  },
  {
   "cell_type": "markdown",
   "id": "6a458f20",
   "metadata": {},
   "source": [
    "### 3.2 使用关键词检索函数  <a id=\"3.2\"></a>\n",
    "\n",
    "现在让我们使用这个关键词检索函数，并传递一个 query 给它。\n",
    "假设我们想搜索\"What is the most viewed televised event?\"，即“收视率最高的电视节目是什么？”\n",
    "\n",
    "我们将 query 传递给函数，然后将其打印出来，看看运行后会返回什么。"
   ]
  },
  {
   "cell_type": "markdown",
   "id": "58ebe4cf",
   "metadata": {},
   "source": [
    "[{'text': 'The most active Gamergate supporters or \"Gamergaters\" said that Gamergate was a movement for ethics in games journalism, for protecting the \"gamer\" identity, and for opposing \"political correctness\" in video games and that any harassment of women was done by others not affiliated with Gamergate. They argued that the close relationships between journalists and developers demonstrated a conspiracy among reviewers to focus on progressive social issues. Some supporters pointed to what they considered disproportionate praise for games such as \"Depression Quest\" and \"Gone Home\", which feature unconventional gameplay and stories with social implications, while they viewed traditional AAA games as downplayed. False claims of the \"ethics in game journalism\" had started as early as 2012, when Geoff Keighley was accused of such unethical behavior when he was presenting information about \"Halo 4\" among advertisements for Mountain Dew and Doritos, an event called \"Doritosgate\" in the gamer culture.', 'title': 'Gamergate (harassment campaign)', 'url': 'https://en.wikipedia.org/wiki?curid=43758363'}, {'text': '\"Rolling Stone\" stated Jackson\\'s Super Bowl performance \"is far and away the most famous moment in the history of the Super Bowl halftime show\". \"PopCrush\" called the performance \"one of the most shocking moments in pop culture\" as well as a \"totally unexpected and unforgettable moment\". \"Gawker\" ranked the performance among the most recent of the \"10 Shows that Advanced Sex on Television\", commenting the set \"had all the elements of a huge story\" and \"within seconds the world searched furtively for pictures\", concluding \"it remains so ubiquitous, it\\'s impossible to look at a starburst nipple shield without thinking \"Janet Jackson\"\". \"E! Online\" ranked it among the top ten most shocking celebrity moments of the prior two decades. A study of television\\'s most impactful moments of the last 50 years conducted by Sony Electronics and the Nielsen Television Research Company ranked Jackson\\'s Super Bowl performance at #26. The incident was the only Super Bowl event on the list and the highest music and entertainment event aside from the death of Whitney Houston. TV Guide Network ranked it at #2 in a 2010 special listing the \"25 Biggest TV Blunders\". \"Complex\" stated \"It\\'s the Citizen Kane of televised nip-slips—so unexpected, and on such a large stage, that nothing else will ever come close. If Beyoncé were to whip out both breasts and put on a puppet show with them when she performs this year in New Orleans, it would rate as just the second most shocking Super Boob display. Janet\\'s strangely ornamented right nipple is a living legend, and so is Justin Timberlake\\'s terrified reaction.\" Music channel Fuse listed it as the most controversial Super Bowl halftime show, saying the \"revealing performance remains (and will forever remain) the craziest thing to ever happen at a halftime show. Almost immediately after the incident, the FCC received a flood of complaints from parents who just wanted their children to enjoy a nice, wholesome three hours of grown men inflicting damaging and long-lasting pain on each other for sport. Halftime shows would never be the same.\" Patrick Gipson of \"Bleacher Report\" ranked it as #1 in its list of the most \"Jaw Dropping Moments of the Last Decade\", stating Janet \"changed the landscape of live television forever\". Gipson explained \"It prompted a million mothers to cover their eyes, fathers and sons to jump out of their seats in shock and numerous sanctions by the Federal Communications Commission, including a US$550,000 fine against CBS. Talk about a halftime show that will be hard to top.\" The incident was also declared \"the most memorable Super Bowl halftime show in history\", as well as \"the most controversial\", adding \"you can\\'t talk about this halftime show, or any subsequent halftime show from here to eternity, without mentioning the wardrobe malfunction\".', 'title': 'Super Bowl XXXVIII halftime show controversy', 'url': 'https://en.wikipedia.org/wiki?curid=498971'}, {'text': 'West Germany (established in May 1949) was not eligible for the 1950 World Cup (the first after the war), and so all preparations were made with a view toward the 1954 matches in Bern, Switzerland. By that time Adidas\\'s football boots were considerably lighter than the ones made before the war, based on English designs. At the World Cup Adi had a secret weapon, which he revealed when West Germany made the finals against the overwhelmingly favored Hungarian team, which was undefeated since May 1950 and had defeated West Germany 8–3 in group play. Despite this defeat, West Germany made the knock-out rounds by twice defeating Turkey handily. The team defeated Yugoslavia and Austria to reach the final (a remarkable achievement), where the hope of many German fans was simply that the team \"avoid another humiliating defeat\" at the hands of the Hungarians. The day of the final began with light rain, which brightened the prospects of the West German team who called it \"\"Fritz Walter-Wetter\"\" because the team\\'s best player excelled in muddy conditions. Dassler informed Herberger before the match of his latest innovation—\"screw in studs.\" Unlike the traditional boot which had fixed leather spike studs, Dassler\\'s shoe allowed spikes of various lengths to be affixed depending on the state of the pitch. As the playing field at Wankdorf Stadium drastically deteriorated, Herberger famously announced, \"Adi, screw them on.\" The longer spikes improved the footing of West German players compared to the Hungarians whose mud-caked boots were also much heavier. The West Germans staged a come from behind upset, winning 3-2, in what became known as the \"Miracle in Bern.\" Herberger publicly praised Dassler as a key contributor to the win, and Adidas\\'s fame rose both in West Germany, where the win was considered a key post-war event in restoring German self-esteem and abroad, where in the first televised World Cup final viewers were introduced to \"the ultimate breakthrough.\"', 'title': 'Adolf Dassler', 'url': 'https://en.wikipedia.org/wiki?curid=2373164'}]"
   ]
  },
  {
   "cell_type": "markdown",
   "id": "804a43c1",
   "metadata": {},
   "source": [
    "这就是我们得到的搜索结果。它是一大段文本，不太方便我们浏览。但可以看到它是一个字典列表。所以让我们定义一个函数，遍历键值对，以更好的方式打印它。"
   ]
  },
  {
   "cell_type": "code",
   "execution_count": null,
   "id": "4c55a722",
   "metadata": {},
   "outputs": [],
   "source": [
    "def print_result(result):\n",
    "    \"\"\"\n",
    "    打印搜索结果。\n",
    "\n",
    "    参数:\n",
    "    result: 搜索结果列表，每个元素是一个字典，包含要打印的键值对。\n",
    "\n",
    "    返回:\n",
    "    无返回值，仅打印结果。\n",
    "\n",
    "    \"\"\"\n",
    "    for i, item in enumerate(result):\n",
    "        print(f'item {i}')  # 打印索引\n",
    "        for key in item.keys():\n",
    "            print(f\"{key}:{item.get(key)}\")  # 打印键值对\n",
    "            print()  # 打印空行，增加可读性\n",
    "        print()  # 打印空行，用于分隔不同的字典\n"
   ]
  },
  {
   "cell_type": "markdown",
   "id": "41fe28e6",
   "metadata": {},
   "source": [
    "调用这个函数，以更清晰的展现形式查看搜索结果。"
   ]
  },
  {
   "cell_type": "code",
   "execution_count": null,
   "id": "ce8b5968",
   "metadata": {},
   "outputs": [],
   "source": [
    "print_result(keyword_search_results)"
   ]
  },
  {
   "cell_type": "markdown",
   "id": "40290303",
   "metadata": {},
   "source": [
    "item 0\n",
    "text:The most active Gamergate supporters or \"Gamergaters\" said that Gamergate was a movement for ethics in games journalism, for protecting the \"gamer\" identity, and for opposing \"political correctness\" in video games and that any harassment of women was done by others not affiliated with Gamergate. They argued that the close relationships between journalists and developers demonstrated a conspiracy among reviewers to focus on progressive social issues. Some supporters pointed to what they considered disproportionate praise for games such as \"Depression Quest\" and \"Gone Home\", which feature unconventional gameplay and stories with social implications, while they viewed traditional AAA games as downplayed. False claims of the \"ethics in game journalism\" had started as early as 2012, when Geoff Keighley was accused of such unethical behavior when he was presenting information about \"Halo 4\" among advertisements for Mountain Dew and Doritos, an event called \"Doritosgate\" in the gamer culture.\n",
    "\n",
    "title:Gamergate (harassment campaign)\n",
    "\n",
    "url:https://en.wikipedia.org/wiki?curid=43758363\n",
    "\n",
    "\n",
    "item 1\n",
    "text:\"Rolling Stone\" stated Jackson's Super Bowl performance \"is far and away the most famous moment in the history of the Super Bowl halftime show\". \"PopCrush\" called the performance \"one of the most shocking moments in pop culture\" as well as a \"totally unexpected and unforgettable moment\". \"Gawker\" ranked the performance among the most recent of the \"10 Shows that Advanced Sex on Television\", commenting the set \"had all the elements of a huge story\" and \"within seconds the world searched furtively for pictures\", concluding \"it remains so ubiquitous, it's impossible to look at a starburst nipple shield without thinking \"Janet Jackson\"\". \"E! Online\" ranked it among the top ten most shocking celebrity moments of the prior two decades. A study of television's most impactful moments of the last 50 years conducted by Sony Electronics and the Nielsen Television Research Company ranked Jackson's Super Bowl performance at #26. The incident was the only Super Bowl event on the list and the highest music and entertainment event aside from the death of Whitney Houston. TV Guide Network ranked it at #2 in a 2010 special listing the \"25 Biggest TV Blunders\". \"Complex\" stated \"It's the Citizen Kane of televised nip-slips—so unexpected, and on such a large stage, that nothing else will ever come close. If Beyoncé were to whip out both breasts and put on a puppet show with them when she performs this year in New Orleans, it would rate as just the second most shocking Super Boob display. Janet's strangely ornamented right nipple is a living legend, and so is Justin Timberlake's terrified reaction.\" Music channel Fuse listed it as the most controversial Super Bowl halftime show, saying the \"revealing performance remains (and will forever remain) the craziest thing to ever happen at a halftime show. Almost immediately after the incident, the FCC received a flood of complaints from parents who just wanted their children to enjoy a nice, wholesome three hours of grown men inflicting damaging and long-lasting pain on each other for sport. Halftime shows would never be the same.\" Patrick Gipson of \"Bleacher Report\" ranked it as #1 in its list of the most \"Jaw Dropping Moments of the Last Decade\", stating Janet \"changed the landscape of live television forever\". Gipson explained \"It prompted a million mothers to cover their eyes, fathers and sons to jump out of their seats in shock and numerous sanctions by the Federal Communications Commission, including a US$550,000 fine against CBS. Talk about a halftime show that will be hard to top.\" The incident was also declared \"the most memorable Super Bowl halftime show in history\", as well as \"the most controversial\", adding \"you can't talk about this halftime show, or any subsequent halftime show from here to eternity, without mentioning the wardrobe malfunction\".\n",
    "\n",
    "title:Super Bowl XXXVIII halftime show controversy\n",
    "\n",
    "url:https://en.wikipedia.org/wiki?curid=498971\n",
    "\n",
    "\n",
    "item 2\n",
    "text:West Germany (established in May 1949) was not eligible for the 1950 World Cup (the first after the war), and so all preparations were made with a view toward the 1954 matches in Bern, Switzerland. By that time Adidas's football boots were considerably lighter than the ones made before the war, based on English designs. At the World Cup Adi had a secret weapon, which he revealed when West Germany made the finals against the overwhelmingly favored Hungarian team, which was undefeated since May 1950 and had defeated West Germany 8–3 in group play. Despite this defeat, West Germany made the knock-out rounds by twice defeating Turkey handily. The team defeated Yugoslavia and Austria to reach the final (a remarkable achievement), where the hope of many German fans was simply that the team \"avoid another humiliating defeat\" at the hands of the Hungarians. The day of the final began with light rain, which brightened the prospects of the West German team who called it \"\"Fritz Walter-Wetter\"\" because the team's best player excelled in muddy conditions. Dassler informed Herberger before the match of his latest innovation—\"screw in studs.\" Unlike the traditional boot which had fixed leather spike studs, Dassler's shoe allowed spikes of various lengths to be affixed depending on the state of the pitch. As the playing field at Wankdorf Stadium drastically deteriorated, Herberger famously announced, \"Adi, screw them on.\" The longer spikes improved the footing of West German players compared to the Hungarians whose mud-caked boots were also much heavier. The West Germans staged a come from behind upset, winning 3-2, in what became known as the \"Miracle in Bern.\" Herberger publicly praised Dassler as a key contributor to the win, and Adidas's fame rose both in West Germany, where the win was considered a key post-war event in restoring German self-esteem and abroad, where in the first televised World Cup final viewers were introduced to \"the ultimate breakthrough.\"\n",
    "\n",
    "title:Adolf Dassler\n",
    "\n",
    "url:https://en.wikipedia.org/wiki?curid=2373164\n"
   ]
  },
  {
   "cell_type": "markdown",
   "id": "fcbbe7cc",
   "metadata": {},
   "source": [
    "得到的第一个结果是一段文本。由正文（text）、标题（title）、地址（url）组成。我们想要查找的是收视率最高的电视节目，这个结果看起来并不完全正确，但包含了许多关键词。\n",
    "第二个结果是关于“超级碗”的文章，它可能是一个收视率很高的电视节目。\n",
    "然后在这里还有第三个结果，它提到了“世界杯”。\n",
    "我们可以看到每篇文章的 URL，单击它，它将引导我们进入文章的维基百科页面。\n",
    "\n",
    "我们再举一个中文的例子，假设我们想搜索“中国”。"
   ]
  },
  {
   "cell_type": "code",
   "execution_count": null,
   "id": "d30ecbe2",
   "metadata": {},
   "outputs": [],
   "source": [
    "query = \"中国\"\n",
    "keyword_search_results = keyword_search(query，results_lang='zh')  # 中文用“zh”\n",
    "print_result(keyword_search_results)"
   ]
  },
  {
   "cell_type": "markdown",
   "id": "80562cc3",
   "metadata": {},
   "source": [
    "item 0\n",
    "text:古时“中国”含义不一：或指天子所在的京师为“中国”。《》：“惠此中国，以绥四方。”毛传：“中国，京师也。”《》：“夫而后之中国，践天子位焉。”《集解》：“刘熙曰；‘帝王所都为中，故曰中国’。”或指华夏族、汉族地区为中国（以其在四夷之中）。《》：“《小雅》尽废，则四夷交侵，中国微矣。”又《》：“是以声名洋溢乎中国，施及蛮貊。”而华夏族多建都于黄河南、北，因称其地为“中国”，与“中土”、“中原”、“中州”、“中夏”、“中华”含义相同，初时本指今河南省北部、山西省南部和陕西省南部及附近地区，后来中原王朝的活动范围扩大，黄河中下游一带，也被称为“中国”。或指统辖中原之国，《》：“盂达于是连吴固蜀，潜图中国。”，也把所统辖的地区，包括不属于黄河流域的地方，也全部称为“中国”。《》：“其后秦遂以兵灭六国，并中国。”在统一的情况下，中央王朝常自称为“中国”；而分裂时期，“中国”也能指稱黄河中下游地区（即中原）或延續正統的王朝。《晉書·載記第十四》苻堅對其弟苻融言“劉禪可非漢之遺祚；然終為中國之所並”。此處「中国」指三國時期于華北地區的魏国，原因是魏繼承漢的正統。此外，古時「中國」一詞也具有單獨代指漢民族的用法。<br>\n",
    "\n",
    "title:中國的稱號\n",
    "\n",
    "url:https://zh.wikipedia.org/wiki?curid=527278\n",
    "\n",
    "\n",
    "item 1\n",
    "text:瑞士银行（中国）有限公司为瑞银子公司，其前身是2004年成立的瑞士银行有限公司北京分行。2012年3月，中国银监会发布《中国银监会关于由瑞士银行有限公司在中国境内分支机构改制的瑞士银行（中国）有限公司开业的批复》，批准瑞士银行（中国）有限公司，英文名为UBS (China) Limited 作为由瑞银单独出资的外商独资银行开业，北京市西城区金融大街7号英蓝国际金融中心1217－1230单元为注册营业地址；注册资本为20亿元人民币，近85%由瑞士银行有限公司拨付，其余部分由原瑞士银行有限公司在中国境内分行的营运资金划转；核准PETER ERIC WALSHE瑞士银行（中国）有限公司董事长的任职资格、金纪湘（SIMON JIXIANG JIN）瑞士银行（中国）有限公司行长的任职资格。允许其经营对各类客户的外汇业务及对除中国境内公民以外客户的人民币业务。 2012年7月，位于北京西城区的瑞士银行（中国）有限公司正式开业。\n",
    "\n",
    "title:瑞银集团\n",
    "\n",
    "url:https://zh.wikipedia.org/wiki?curid=556866\n",
    "\n",
    "\n",
    "item 2\n",
    "text:独特的外型更引起了时尚界的注意，使得她在Puma的Suede 50活动，Levi’s的新年TVC，以及路易威登2018年的展览和活动中悉数登场；并出现在多个亚洲尖端时尚生活杂志的版面，包括Vogue me（中国）、时尚芭莎（中国）、Nylon（中国/日本）、Ellemen睿士、大都市Numéro（中国）、红秀GRAZIA。（凤凰网音乐）\n",
    "\n",
    "title:刘柏辛\n",
    "\n",
    "url:https://zh.wikipedia.org/wiki?curid=6070776\n"
   ]
  },
  {
   "cell_type": "markdown",
   "id": "e3fe03a4",
   "metadata": {},
   "source": [
    "我们总共得到了三个结果，每一个结果都是一段文本。由正文（text）、标题（title）、地址（url）组成。我们想要寻找的是跟中国有关的信息，可以看到三个结果里都多次出现了“中国”这个关键词。我们还可以看到每篇文章的 url，单击它，将进入该篇文章的维基百科页面。\n",
    "\n",
    "您可以尝试修改查询，以查看数据集中还有什么内容。\n",
    "在这里，你还可以尝试查看属性。下面是构建该数据集时使用的属性列表，这些属性都存储在数据库中"
   ]
  },
  {
   "cell_type": "code",
   "execution_count": null,
   "id": "744c78ea",
   "metadata": {},
   "outputs": [],
   "source": [
    "properties = [\"text\", \"title\", \"url\", \"views\", \"lang\"]\n",
    "# 其他可以尝试的语言：en, de, fr, es, it, ja, ar, zh, ko, hi"
   ]
  },
  {
   "cell_type": "markdown",
   "id": "838e498d",
   "metadata": {},
   "source": [
    "您可以通过查看属性 views 来查看维基百科页面收到的观看次数，并且用它来进行筛选或排序。\n",
    "\n",
    "您还可以使用其他语言进行筛选。可以尝试的其他语言包括英语、德语、法语、西班牙语、意大利语、日语、阿拉伯语、中文、韩语和印地语。只需输入其中一种语言，并将其传递给关键词检索，它将以该语言提供结果。但是，在选择语言时，请注意所选语言的文档与 query 之间必须具有共同出现的关键词。这样才能获得相关的结果。\n",
    "\n",
    "BM25 只需要有一个共同出现的关键词，就可以将其评分为某种程度上相关。而且 query 和文档共享的词越多，文档中重复的次数越多，得分就越高。"
   ]
  },
  {
   "cell_type": "markdown",
   "id": "e6a625d1",
   "metadata": {},
   "source": [
    "总的来说，关键词检索是一种可以展示 query 与数据库的连接以及查询结果的高阶搜索。"
   ]
  },
  {
   "cell_type": "markdown",
   "id": "3f04fc53",
   "metadata": {},
   "source": [
    "## 四、关键词检索的更深理解  <a id=\"四、\"></a>\n",
    "\n",
    "接下来让我们从更高的层次上回顾一下**搜索**。\n",
    "\n",
    "搜索的主要组成部分包括 **query** 、**搜索系统**和**搜索系统可以访问的之前处理过的数据库**。搜索系统会根据与 query 最相关的顺序给出一系列结果作为响应。\n",
    "\n",
    "![Alt text](images/2-1.png)\n",
    "\n",
    "如果我们更细致的看，可以将搜索系统视为具有多个阶段。第一阶段通常是检索或搜索阶段，之后还有一个称为重新排序（Reranking）的阶段。重新排序通常是必需的，因为我们希望包含或引入除了文本相关性之外的其他信息。\n",
    "\n",
    "第一阶段的检索通常使用 BM25 算法来对数据库中的文档与 query 进行评分。第一阶段检索的实现通常包含倒排索引（Inverted index）的概念。倒排索引是一种具有两列的表格。一列是关键词，旁边是包含该关键词的文档。这样做是为了优化搜索的速度。当你在搜索引擎中输入 query 时，你肯定希望在几毫秒内就能得到结果。实际上，除了文档 ID 之外，关键词出现的频率也被添加到这个调用中。\n",
    "\n",
    "![Alt text](images/2-2.png)\n",
    "\n",
    "现在，请注意这个 query \"What color is the sky?\"，当我们查看倒排索引时，单词\"color\"对应文档 804 ，而单词\"sky\"也对应文档 804 。因此，804 将在第一阶段检索的结果中获得很高的评分。\n"
   ]
  },
  {
   "cell_type": "markdown",
   "id": "2662c74e",
   "metadata": {},
   "source": [
    "## 五、关键词检索的限制  <a id=\"五、\"></a>\n",
    "\n",
    "通过我们对关键词检索的理解，我们可以看到它有一些限制。假设我们查询\"Strong pain in the side of the head\"（译为“头部侧面非常痛”），如果我们搜索到一个文档，这个文档中有另一个文档可以准确地回答它，比如\"Sharp temple headache\"（译为“太阳穴剧烈疼痛”），但它使用了不同的关键词，关键词检索无法检索到这个文档。而这是语言模型可以帮助的一个领域，因为它们不仅仅比较关键词。还可以考虑到文档的含义，能够为 query 检索到这样的文档。\n",
    "\n",
    "![Alt text](images/2-3.png)"
   ]
  },
  {
   "cell_type": "markdown",
   "id": "b1539ff2",
   "metadata": {},
   "source": [
    "大语言模型可以改进搜索的两个阶段，在接下来的课程中，我们将学习如何做到这一点。我们将看到语言模型如何通过 Embedding（嵌入）来改进检索或第一阶段。\n",
    "\n",
    "![Alt text](images/2-4.png)\n",
    "\n",
    "Embedding 将是下一章的主题。然后我们将看一下 Reranking 是如何工作的，以及它如何改进第二阶段。在本课程的最后，我们将看一下 LLM（大语言模型）如何根据之前的搜索步骤生成响应。"
   ]
  },
  {
   "cell_type": "code",
   "execution_count": null,
   "id": "4fefd912",
   "metadata": {},
   "outputs": [],
   "source": []
  }
 ],
 "metadata": {
  "kernelspec": {
   "display_name": "Python 3 (ipykernel)",
   "language": "python",
   "name": "python3"
  },
  "language_info": {
   "codemirror_mode": {
    "name": "ipython",
    "version": 3
   },
   "file_extension": ".py",
   "mimetype": "text/x-python",
   "name": "python",
   "nbconvert_exporter": "python",
   "pygments_lexer": "ipython3",
   "version": "3.10.9"
  }
 },
 "nbformat": 4,
 "nbformat_minor": 5
}
