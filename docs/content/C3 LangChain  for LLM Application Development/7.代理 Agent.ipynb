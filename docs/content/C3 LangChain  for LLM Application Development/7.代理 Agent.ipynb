{
 "cells": [
  {
   "cell_type": "markdown",
   "id": "2caa79ba-45e3-437c-9cb6-e433f443f0bf",
   "metadata": {},
   "source": [
    "# 第七章 代理\n"
   ]
  },
  {
   "cell_type": "code",
   "execution_count": 1,
   "id": "312f4c23-fe27-4cda-a645-8e1519c2febf",
   "metadata": {
    "tags": []
   },
   "outputs": [],
   "source": [
    "# 工具函数tool在主目录下的src文件夹，将该文件夹加入路径。\n",
    "# 这样方便后续对工具函数的导入 `import tool` 或 `from tool import`\n",
    "import sys\n",
    "sys.path.append(\"../src\") \n",
    "import tool\n",
    "import warnings\n",
    "warnings.filterwarnings('ignore')"
   ]
  },
  {
   "cell_type": "markdown",
   "id": "631c764b-68fa-483a-80a5-9a322cd1117c",
   "metadata": {},
   "source": [
    "## 一、使用LangChain内置工具llm-math和wikipedia"
   ]
  },
  {
   "cell_type": "code",
   "execution_count": 2,
   "id": "bc80a8a7-a66e-4fbb-8d57-05004a3e77c7",
   "metadata": {},
   "outputs": [],
   "source": [
    "from langchain.agents import load_tools, initialize_agent\n",
    "from langchain.agents import AgentType\n",
    "from langchain.python import PythonREPL\n",
    "from langchain.chat_models import ChatOpenAI"
   ]
  },
  {
   "cell_type": "markdown",
   "id": "d5a3655c-4d5e-4a86-8bf4-a11bd1525059",
   "metadata": {},
   "source": [
    "- `llm-math` 工具结合语言模型和计算器用以进行数学计算\n",
    "- `wikipedia`工具通过API连接到wikipedia进行搜索查询。"
   ]
  },
  {
   "cell_type": "code",
   "execution_count": 4,
   "id": "71e5894f-fc50-478b-a3d3-58891cc46ffc",
   "metadata": {},
   "outputs": [],
   "source": [
    "# 参数temperature设置为0.0，从而减少生成答案的随机性。\n",
    "llm = ChatOpenAI(temperature=0)\n",
    "tools = load_tools(\n",
    "    [\"llm-math\",\"wikipedia\"], \n",
    "    llm=llm #第一步初始化的模型\n",
    ")"
   ]
  },
  {
   "cell_type": "code",
   "execution_count": 5,
   "id": "e7cdc782-2b8c-4649-ae1e-cabacee1a757",
   "metadata": {},
   "outputs": [],
   "source": [
    "# 初始化代理\n",
    "agent= initialize_agent(\n",
    "    tools, #第二步加载的工具\n",
    "    llm, #第一步初始化的模型\n",
    "    agent=AgentType.CHAT_ZERO_SHOT_REACT_DESCRIPTION,  #代理类型\n",
    "    handle_parsing_errors=True, #处理解析错误\n",
    "    verbose = True #输出中间步骤\n",
    ")"
   ]
  },
  {
   "cell_type": "markdown",
   "id": "94cd113d-a9b5-47cc-b776-f1bcbfb5b92f",
   "metadata": {},
   "source": [
    "- `agent`: 代理类型。这里使用的是`AgentType.CHAT_ZERO_SHOT_REACT_DESCRIPTION`。其中`CHAT`代表代理模型为针对对话优化的模型，`REACT`代表针对REACT设计的提示模版。\n",
    "- `handle_parsing_errors`: 是否处理解析错误。当发生解析错误时，将错误信息返回给大模型，让其进行纠正。\n",
    "- `verbose`: 是否输出中间步骤结果。"
   ]
  },
  {
   "cell_type": "markdown",
   "id": "3a87f68f-1a40-49cd-b86d-3613774ba706",
   "metadata": {
    "tags": []
   },
   "source": [
    "### 1.1 使用代理回答数学问题"
   ]
  },
  {
   "cell_type": "code",
   "execution_count": 19,
   "id": "1e2bcd3b-ae72-4fa1-b38e-d0ce650e1f31",
   "metadata": {},
   "outputs": [
    {
     "name": "stdout",
     "output_type": "stream",
     "text": [
      "\n",
      "\n",
      "\u001b[1m> Entering new AgentExecutor chain...\u001b[0m\n",
      "\u001b[32;1m\u001b[1;3mQuestion: 计算300的25%\n",
      "Thought: To calculate 25% of 300, I can use the calculator tool.\n",
      "Action:\n",
      "```json\n",
      "{\n",
      "  \"action\": \"Calculator\",\n",
      "  \"action_input\": \"300 * 25 / 100\"\n",
      "}\n",
      "```\n",
      "\u001b[0m\n",
      "Observation: \u001b[36;1m\u001b[1;3mAnswer: 75.0\u001b[0m\n",
      "Thought:\u001b[32;1m\u001b[1;3mThe calculator tool returned the answer of 75.0, which is 25% of 300.\n",
      "Final Answer: 25% of 300 is 75.0.\u001b[0m\n",
      "\n",
      "\u001b[1m> Finished chain.\u001b[0m\n"
     ]
    },
    {
     "data": {
      "text/plain": [
       "{'input': '计算300的25%', 'output': '25% of 300 is 75.0.'}"
      ]
     },
     "execution_count": 19,
     "metadata": {},
     "output_type": "execute_result"
    }
   ],
   "source": [
    "agent(\"计算300的25%\") "
   ]
  },
  {
   "cell_type": "markdown",
   "id": "05bb0811-d71e-4016-868b-efbb651d8e59",
   "metadata": {},
   "source": [
    "<br> \n",
    "\n",
    "**上面的过程可以总结为下**\n",
    "\n",
    "1. 模型对于接下来需要做什么，给出思考\n",
    "    \n",
    "   <p style=\"font-family:verdana; font-size:12px;color:green\"> <strong>思考</strong>：我可以使用计算工具来计算300的25%</p>\n",
    "\n",
    "2. 模型基于思考采取行动\n",
    "    <p style=\"font-family:verdana; font-size:12px;color:green\"> <strong>行动</strong>: 使用计算器（calculator），输入（action_input）300*0.25</p>\n",
    "3. 模型得到观察\n",
    "    <p style=\"font-family:verdana; font-size:12px;color:green\"><strong>观察</strong>：答案: 75.0</p>\n",
    "\n",
    "4. 基于观察，模型对于接下来需要做什么，给出思考\n",
    "    <p style=\"font-family:verdana; font-size:12px;color:green\"> <strong>思考</strong>: 计算工具返回了300的25%，答案为75 </p>\n",
    "\n",
    "5. 给出最终答案（Final Answer）\n",
    "     <p style=\"font-family:verdana; font-size:12px;color:green\"> <strong>最终答案</strong>: 300的25%等于75。 </p>\n",
    "5. 以字典的形式给出最终答案。"
   ]
  },
  {
   "cell_type": "markdown",
   "id": "bdd13d06-0f0e-4918-ac28-339f524f8c76",
   "metadata": {
    "jp-MarkdownHeadingCollapsed": true,
    "tags": []
   },
   "source": [
    "### 1.2 Tom M. Mitchell的书"
   ]
  },
  {
   "cell_type": "code",
   "execution_count": 16,
   "id": "f43b5cbf-1011-491b-90e8-09cf903fb866",
   "metadata": {},
   "outputs": [
    {
     "name": "stdout",
     "output_type": "stream",
     "text": [
      "\n",
      "\n",
      "\u001b[1m> Entering new AgentExecutor chain...\u001b[0m\n",
      "\u001b[32;1m\u001b[1;3mThought: I can use Wikipedia to find information about Tom M. Mitchell and his books.\n",
      "Action:\n",
      "```json\n",
      "{\n",
      "  \"action\": \"Wikipedia\",\n",
      "  \"action_input\": \"Tom M. Mitchell\"\n",
      "}\n",
      "```\u001b[0m\n",
      "Observation: \u001b[33;1m\u001b[1;3mPage: Tom M. Mitchell\n",
      "Summary: Tom Michael Mitchell (born August 9, 1951) is an American computer scientist and the Founders University Professor at Carnegie Mellon University (CMU). He is a founder and former Chair of the Machine Learning Department at CMU. Mitchell is known for his contributions to the advancement of machine learning, artificial intelligence, and cognitive neuroscience and is the author of the textbook Machine Learning. He is a member of the United States National Academy of Engineering since 2010. He is also a Fellow of the American Academy of Arts and Sciences, the American Association for the Advancement of Science and a Fellow and past President of the Association for the Advancement of Artificial Intelligence. In October 2018, Mitchell was appointed as the Interim Dean of the School of Computer Science at Carnegie Mellon.\n",
      "\n",
      "\n",
      "\n",
      "Page: Tom Mitchell (Australian footballer)\n",
      "Summary: Thomas Mitchell (born 31 May 1993) is a professional Australian rules footballer playing for the Collingwood Football Club in the Australian Football League (AFL). He previously played for the Adelaide Crows, Sydney Swans from 2012 to 2016, and the Hawthorn Football Club between 2017 and 2022. Mitchell won the Brownlow Medal as the league's best and fairest player in 2018 and set the record for the most disposals in a VFL/AFL match, accruing 54 in a game against Collingwood during that season.\n",
      "\n",
      "\u001b[0m\n",
      "Thought:\u001b[32;1m\u001b[1;3mThe book written by Tom M. Mitchell is \"Machine Learning\".\n",
      "Final Answer: Machine Learning\u001b[0m\n",
      "\n",
      "\u001b[1m> Finished chain.\u001b[0m\n"
     ]
    },
    {
     "data": {
      "text/plain": [
       "{'input': 'Tom M. Mitchell是一位美国计算机科学家，也是卡内基梅隆大学（CMU）的创始人大学教授。他写了哪本书呢？',\n",
       " 'output': 'Machine Learning'}"
      ]
     },
     "execution_count": 16,
     "metadata": {},
     "output_type": "execute_result"
    }
   ],
   "source": [
    "question = \"Tom M. Mitchell是一位美国计算机科学家，\\\n",
    "也是卡内基梅隆大学（CMU）的创始人大学教授。\\\n",
    "他写了哪本书呢？\"\n",
    "\n",
    "agent(question) "
   ]
  },
  {
   "cell_type": "markdown",
   "id": "39e2f6fb-f229-4235-ad58-98a5f505800c",
   "metadata": {},
   "source": [
    "✅ **总结**\n",
    "\n",
    "1. 模型对于接下来需要做什么，给出思考（Thought） \n",
    "   <p style=\"font-family:verdana; font-size:12px;color:green\"> <strong>思考</strong>：我应该使用维基百科去搜索。</p>\n",
    "\n",
    "2. 模型基于思考采取行动（Action）\n",
    "    <p style=\"font-family:verdana; font-size:12px;color:green\"> <strong>行动</strong>: 使用维基百科，输入Tom M. Mitchell</p>\n",
    "3. 模型得到观察（Observation）\n",
    "    <p style=\"font-family:verdana; font-size:12px;color:green\"><strong>观测</strong>: 页面: Tom M. Mitchell，页面: Tom Mitchell (澳大利亚足球运动员)</p>\n",
    "\n",
    "4. 基于观察，模型对于接下来需要做什么，给出思考（Thought）\n",
    "    <p style=\"font-family:verdana; font-size:12px;color:green\"> <strong>思考</strong>: Tom M. Mitchell写的书是Machine Learning </p>\n",
    "\n",
    "5. 给出最终答案（Final Answer）\n",
    "     <p style=\"font-family:verdana; font-size:12px;color:green\"> <strong>最终答案</strong>: Machine Learning </p>\n",
    "5. 以字典的形式给出最终答案。\n",
    "\n",
    "\n",
    "值得注意的是，模型每次运行推理的过程可能存在差异，但最终的结果一致。"
   ]
  },
  {
   "cell_type": "markdown",
   "id": "5901cab6-a7c9-4590-b35d-d41c29e39a39",
   "metadata": {},
   "source": [
    "## 二、 使用LangChain内置工具PythonREPLTool"
   ]
  },
  {
   "cell_type": "markdown",
   "id": "12b8d837-524c-46b8-9189-504808cf1f93",
   "metadata": {
    "tags": []
   },
   "source": [
    "我们创建pyhon代理，然后使用代理对顾客名字转换为拼音。\n",
    "\n",
    "### 2.1 正常模式"
   ]
  },
  {
   "cell_type": "code",
   "execution_count": 51,
   "id": "6c60d933-168d-4834-b29c-b2b43ade80cc",
   "metadata": {},
   "outputs": [
    {
     "name": "stdout",
     "output_type": "stream",
     "text": [
      "\n",
      "\n",
      "\u001b[1m> Entering new AgentExecutor chain...\u001b[0m\n",
      "\u001b[32;1m\u001b[1;3mI need to use the pinyin library to convert the names to pinyin. I can then print out the list of converted names.\n",
      "Action: Python_REPL\n",
      "Action Input: import pinyin\u001b[0m\n",
      "Observation: \u001b[36;1m\u001b[1;3m\u001b[0m\n",
      "Thought:\u001b[32;1m\u001b[1;3mI have imported the pinyin library. Now I can use it to convert the names to pinyin.\n",
      "Action: Python_REPL\n",
      "Action Input: names = ['小明', '小黄', '小红', '小蓝', '小橘', '小绿']\n",
      "pinyin_names = [pinyin.get(i, format='strip') for i in names]\n",
      "print(pinyin_names)\u001b[0m\n",
      "Observation: \u001b[36;1m\u001b[1;3m['xiaoming', 'xiaohuang', 'xiaohong', 'xiaolan', 'xiaoju', 'xiaolv']\n",
      "\u001b[0m\n",
      "Thought:\u001b[32;1m\u001b[1;3mI have successfully converted the names to pinyin and printed out the list of converted names.\n",
      "Final Answer: ['xiaoming', 'xiaohuang', 'xiaohong', 'xiaolan', 'xiaoju', 'xiaolv']\u001b[0m\n",
      "\n",
      "\u001b[1m> Finished chain.\u001b[0m\n"
     ]
    },
    {
     "data": {
      "text/plain": [
       "\"['xiaoming', 'xiaohuang', 'xiaohong', 'xiaolan', 'xiaoju', 'xiaolv']\""
      ]
     },
     "execution_count": 51,
     "metadata": {},
     "output_type": "execute_result"
    }
   ],
   "source": [
    "from langchain.agents.agent_toolkits import create_python_agent\n",
    "from langchain.tools.python.tool import PythonREPLTool\n",
    "\n",
    "agent = create_python_agent(\n",
    "    llm,  #使用前面一节已经加载的大语言模型\n",
    "    tool=PythonREPLTool(), #使用Python交互式环境工具（REPLTool）\n",
    "    verbose=True #输出中间步骤\n",
    ")\n",
    "customer_list = [\"小明\",\"小黄\",\"小红\",\"小蓝\",\"小橘\",\"小绿\",]\n",
    "\n",
    "agent.run(f\"将使用pinyin拼音库这些客户名字转换为拼音，并打印输出列表: {customer_list}。\") "
   ]
  },
  {
   "cell_type": "markdown",
   "id": "9a36b7bb-bdf0-463e-8f23-3e4770921cad",
   "metadata": {
    "jp-MarkdownHeadingCollapsed": true,
    "tags": []
   },
   "source": [
    "### 2.2 调试模式"
   ]
  },
  {
   "cell_type": "markdown",
   "id": "951048dc-0414-410d-a0e9-6ef32bbdda89",
   "metadata": {
    "tags": []
   },
   "source": [
    "在调试（debug）模式下再次运行，我们可以把上面的6步分别对应到下面的具体流程\n",
    "1. 模型对于接下来需要做什么，给出思考（Thought）\n",
    "    - <p style=\"font-family:verdana; font-size:12px;color:green\"> [chain/start] [1:chain:AgentExecutor] Entering Chain run with input</p>\n",
    "    - <p style=\"font-family:verdana; font-size:12px;color:green\"> [chain/start] [1:chain:AgentExecutor > 2:chain:LLMChain] Entering Chain run with input</p>\n",
    "    - <p style=\"font-family:verdana; font-size:12px;color:green\"> [llm/start] [1:chain:AgentExecutor > 2:chain:LLMChain > 3:llm:ChatOpenAI] Entering LLM run with input</p>\n",
    "    - <p style=\"font-family:verdana; font-size:12px;color:green\"> [llm/end] [1:chain:AgentExecutor > 2:chain:LLMChain > 3:llm:ChatOpenAI] [1.91s] Exiting LLM run with output</p>\n",
    "    - <p style=\"font-family:verdana; font-size:12px;color:green\">[chain/end] [1:chain:AgentExecutor > 2:chain:LLMChain] [1.91s] Exiting Chain run with output</p>\n",
    "2. 模型基于思考采取行动（Action), 因为使用的工具不同，Action的输出也和之前有所不同，这里输出的为python代码 `import pinyin`\n",
    "    - <p style=\"font-family:verdana; font-size:12px;color:green\"> [tool/start] [1:chain:AgentExecutor > 4:tool:Python REPL] Entering Tool run with input</p>\n",
    "    - <p style=\"font-family:verdana; font-size:12px;color:green\"> [tool/end] [1:chain:AgentExecutor > 4:tool:Python_REPL] [1.28ms] Exiting Tool run with output</p>\n",
    "3. 模型得到观察（Observation）   \n",
    "    - <p style=\"font-family:verdana; font-size:12px;color:green\"> [chain/start] [1:chain:AgentExecutor > 5:chain:LLMChain] Entering Chain run with input</p>\n",
    "4. 基于观察，模型对于接下来需要做什么，给出思考（Thought）   \n",
    "    - <p style=\"font-family:verdana; font-size:12px;color:green\"> [llm/start] [1:chain:AgentExecutor > 5:chain:LLMChain > 6:llm:ChatOpenAI] Entering LLM run with input</p>\n",
    "    - <p style=\"font-family:verdana; font-size:12px;color:green\"> [llm/end] [1:chain:AgentExecutor > 5:chain:LLMChain > 6:llm:ChatOpenAI] [3.48s] Exiting LLM run with output</p>\n",
    "    \n",
    "5. 给出最终答案（Final Answer） \n",
    "    - <p style=\"font-family:verdana; font-size:12px;color:green\"> [chain/end] [1:chain:AgentExecutor > 5:chain:LLMChain] [3.48s] Exiting Chain run with output</p>\n",
    "6. 返回最终答案。\n",
    "    - <p style=\"font-family:verdana; font-size:12px;color:green\"> [chain/end] [1:chain:AgentExecutor] [19.20s] Exiting Chain run with output</p>"
   ]
  },
  {
   "cell_type": "code",
   "execution_count": 52,
   "id": "92b8961b-b990-4540-a7f9-e4701dfaa616",
   "metadata": {},
   "outputs": [
    {
     "name": "stdout",
     "output_type": "stream",
     "text": [
      "\u001b[32;1m\u001b[1;3m[chain/start]\u001b[0m \u001b[1m[1:chain:AgentExecutor] Entering Chain run with input:\n",
      "\u001b[0m{\n",
      "  \"input\": \"使用pinyin拼音库将这些客户名字转换为拼音，并打印输出列表: ['小明', '小黄', '小红', '小蓝', '小橘', '小绿']\"\n",
      "}\n",
      "\u001b[32;1m\u001b[1;3m[chain/start]\u001b[0m \u001b[1m[1:chain:AgentExecutor > 2:chain:LLMChain] Entering Chain run with input:\n",
      "\u001b[0m{\n",
      "  \"input\": \"使用pinyin拼音库将这些客户名字转换为拼音，并打印输出列表: ['小明', '小黄', '小红', '小蓝', '小橘', '小绿']\",\n",
      "  \"agent_scratchpad\": \"\",\n",
      "  \"stop\": [\n",
      "    \"\\nObservation:\",\n",
      "    \"\\n\\tObservation:\"\n",
      "  ]\n",
      "}\n",
      "\u001b[32;1m\u001b[1;3m[llm/start]\u001b[0m \u001b[1m[1:chain:AgentExecutor > 2:chain:LLMChain > 3:llm:ChatOpenAI] Entering LLM run with input:\n",
      "\u001b[0m{\n",
      "  \"prompts\": [\n",
      "    \"Human: You are an agent designed to write and execute python code to answer questions.\\nYou have access to a python REPL, which you can use to execute python code.\\nIf you get an error, debug your code and try again.\\nOnly use the output of your code to answer the question. \\nYou might know the answer without running any code, but you should still run the code to get the answer.\\nIf it does not seem like you can write code to answer the question, just return \\\"I don't know\\\" as the answer.\\n\\n\\nPython_REPL: A Python shell. Use this to execute python commands. Input should be a valid python command. If you want to see the output of a value, you should print it out with `print(...)`.\\n\\nUse the following format:\\n\\nQuestion: the input question you must answer\\nThought: you should always think about what to do\\nAction: the action to take, should be one of [Python_REPL]\\nAction Input: the input to the action\\nObservation: the result of the action\\n... (this Thought/Action/Action Input/Observation can repeat N times)\\nThought: I now know the final answer\\nFinal Answer: the final answer to the original input question\\n\\nBegin!\\n\\nQuestion: 使用pinyin拼音库将这些客户名字转换为拼音，并打印输出列表: ['小明', '小黄', '小红', '小蓝', '小橘', '小绿']\\nThought:\"\n",
      "  ]\n",
      "}\n",
      "\u001b[36;1m\u001b[1;3m[llm/end]\u001b[0m \u001b[1m[1:chain:AgentExecutor > 2:chain:LLMChain > 3:llm:ChatOpenAI] [1.91s] Exiting LLM run with output:\n",
      "\u001b[0m{\n",
      "  \"generations\": [\n",
      "    [\n",
      "      {\n",
      "        \"text\": \"I need to use the pinyin library to convert the names to pinyin. I can then print out the list of converted names.\\nAction: Python_REPL\\nAction Input: import pinyin\",\n",
      "        \"generation_info\": {\n",
      "          \"finish_reason\": \"stop\"\n",
      "        },\n",
      "        \"message\": {\n",
      "          \"lc\": 1,\n",
      "          \"type\": \"constructor\",\n",
      "          \"id\": [\n",
      "            \"langchain\",\n",
      "            \"schema\",\n",
      "            \"messages\",\n",
      "            \"AIMessage\"\n",
      "          ],\n",
      "          \"kwargs\": {\n",
      "            \"content\": \"I need to use the pinyin library to convert the names to pinyin. I can then print out the list of converted names.\\nAction: Python_REPL\\nAction Input: import pinyin\",\n",
      "            \"additional_kwargs\": {}\n",
      "          }\n",
      "        }\n",
      "      }\n",
      "    ]\n",
      "  ],\n",
      "  \"llm_output\": {\n",
      "    \"token_usage\": {\n",
      "      \"prompt_tokens\": 320,\n",
      "      \"completion_tokens\": 39,\n",
      "      \"total_tokens\": 359\n",
      "    },\n",
      "    \"model_name\": \"gpt-3.5-turbo\"\n",
      "  },\n",
      "  \"run\": null\n",
      "}\n",
      "\u001b[36;1m\u001b[1;3m[chain/end]\u001b[0m \u001b[1m[1:chain:AgentExecutor > 2:chain:LLMChain] [1.91s] Exiting Chain run with output:\n",
      "\u001b[0m{\n",
      "  \"text\": \"I need to use the pinyin library to convert the names to pinyin. I can then print out the list of converted names.\\nAction: Python_REPL\\nAction Input: import pinyin\"\n",
      "}\n",
      "\u001b[32;1m\u001b[1;3m[tool/start]\u001b[0m \u001b[1m[1:chain:AgentExecutor > 4:tool:Python_REPL] Entering Tool run with input:\n",
      "\u001b[0m\"import pinyin\"\n",
      "\u001b[36;1m\u001b[1;3m[tool/end]\u001b[0m \u001b[1m[1:chain:AgentExecutor > 4:tool:Python_REPL] [1.28ms] Exiting Tool run with output:\n",
      "\u001b[0m\"\"\n",
      "\u001b[32;1m\u001b[1;3m[chain/start]\u001b[0m \u001b[1m[1:chain:AgentExecutor > 5:chain:LLMChain] Entering Chain run with input:\n",
      "\u001b[0m{\n",
      "  \"input\": \"使用pinyin拼音库将这些客户名字转换为拼音，并打印输出列表: ['小明', '小黄', '小红', '小蓝', '小橘', '小绿']\",\n",
      "  \"agent_scratchpad\": \"I need to use the pinyin library to convert the names to pinyin. I can then print out the list of converted names.\\nAction: Python_REPL\\nAction Input: import pinyin\\nObservation: \\nThought:\",\n",
      "  \"stop\": [\n",
      "    \"\\nObservation:\",\n",
      "    \"\\n\\tObservation:\"\n",
      "  ]\n",
      "}\n",
      "\u001b[32;1m\u001b[1;3m[llm/start]\u001b[0m \u001b[1m[1:chain:AgentExecutor > 5:chain:LLMChain > 6:llm:ChatOpenAI] Entering LLM run with input:\n",
      "\u001b[0m{\n",
      "  \"prompts\": [\n",
      "    \"Human: You are an agent designed to write and execute python code to answer questions.\\nYou have access to a python REPL, which you can use to execute python code.\\nIf you get an error, debug your code and try again.\\nOnly use the output of your code to answer the question. \\nYou might know the answer without running any code, but you should still run the code to get the answer.\\nIf it does not seem like you can write code to answer the question, just return \\\"I don't know\\\" as the answer.\\n\\n\\nPython_REPL: A Python shell. Use this to execute python commands. Input should be a valid python command. If you want to see the output of a value, you should print it out with `print(...)`.\\n\\nUse the following format:\\n\\nQuestion: the input question you must answer\\nThought: you should always think about what to do\\nAction: the action to take, should be one of [Python_REPL]\\nAction Input: the input to the action\\nObservation: the result of the action\\n... (this Thought/Action/Action Input/Observation can repeat N times)\\nThought: I now know the final answer\\nFinal Answer: the final answer to the original input question\\n\\nBegin!\\n\\nQuestion: 使用pinyin拼音库将这些客户名字转换为拼音，并打印输出列表: ['小明', '小黄', '小红', '小蓝', '小橘', '小绿']\\nThought:I need to use the pinyin library to convert the names to pinyin. I can then print out the list of converted names.\\nAction: Python_REPL\\nAction Input: import pinyin\\nObservation: \\nThought:\"\n",
      "  ]\n",
      "}\n",
      "\u001b[36;1m\u001b[1;3m[llm/end]\u001b[0m \u001b[1m[1:chain:AgentExecutor > 5:chain:LLMChain > 6:llm:ChatOpenAI] [3.48s] Exiting LLM run with output:\n",
      "\u001b[0m{\n",
      "  \"generations\": [\n",
      "    [\n",
      "      {\n",
      "        \"text\": \"I have imported the pinyin library. Now I can use it to convert the names to pinyin.\\nAction: Python_REPL\\nAction Input: names = ['小明', '小黄', '小红', '小蓝', '小橘', '小绿']\\npinyin_names = [pinyin.get(i, format='strip') for i in names]\\nprint(pinyin_names)\",\n",
      "        \"generation_info\": {\n",
      "          \"finish_reason\": \"stop\"\n",
      "        },\n",
      "        \"message\": {\n",
      "          \"lc\": 1,\n",
      "          \"type\": \"constructor\",\n",
      "          \"id\": [\n",
      "            \"langchain\",\n",
      "            \"schema\",\n",
      "            \"messages\",\n",
      "            \"AIMessage\"\n",
      "          ],\n",
      "          \"kwargs\": {\n",
      "            \"content\": \"I have imported the pinyin library. Now I can use it to convert the names to pinyin.\\nAction: Python_REPL\\nAction Input: names = ['小明', '小黄', '小红', '小蓝', '小橘', '小绿']\\npinyin_names = [pinyin.get(i, format='strip') for i in names]\\nprint(pinyin_names)\",\n",
      "            \"additional_kwargs\": {}\n",
      "          }\n",
      "        }\n",
      "      }\n",
      "    ]\n",
      "  ],\n",
      "  \"llm_output\": {\n",
      "    \"token_usage\": {\n",
      "      \"prompt_tokens\": 365,\n",
      "      \"completion_tokens\": 87,\n",
      "      \"total_tokens\": 452\n",
      "    },\n",
      "    \"model_name\": \"gpt-3.5-turbo\"\n",
      "  },\n",
      "  \"run\": null\n",
      "}\n",
      "\u001b[36;1m\u001b[1;3m[chain/end]\u001b[0m \u001b[1m[1:chain:AgentExecutor > 5:chain:LLMChain] [3.48s] Exiting Chain run with output:\n",
      "\u001b[0m{\n",
      "  \"text\": \"I have imported the pinyin library. Now I can use it to convert the names to pinyin.\\nAction: Python_REPL\\nAction Input: names = ['小明', '小黄', '小红', '小蓝', '小橘', '小绿']\\npinyin_names = [pinyin.get(i, format='strip') for i in names]\\nprint(pinyin_names)\"\n",
      "}\n",
      "\u001b[32;1m\u001b[1;3m[tool/start]\u001b[0m \u001b[1m[1:chain:AgentExecutor > 7:tool:Python_REPL] Entering Tool run with input:\n",
      "\u001b[0m\"names = ['小明', '小黄', '小红', '小蓝', '小橘', '小绿']\n",
      "pinyin_names = [pinyin.get(i, format='strip') for i in names]\n",
      "print(pinyin_names)\"\n",
      "\u001b[36;1m\u001b[1;3m[tool/end]\u001b[0m \u001b[1m[1:chain:AgentExecutor > 7:tool:Python_REPL] [1.365ms] Exiting Tool run with output:\n",
      "\u001b[0m\"['xiaoming', 'xiaohuang', 'xiaohong', 'xiaolan', 'xiaoju', 'xiaolv']\"\n",
      "\u001b[32;1m\u001b[1;3m[chain/start]\u001b[0m \u001b[1m[1:chain:AgentExecutor > 8:chain:LLMChain] Entering Chain run with input:\n",
      "\u001b[0m{\n",
      "  \"input\": \"使用pinyin拼音库将这些客户名字转换为拼音，并打印输出列表: ['小明', '小黄', '小红', '小蓝', '小橘', '小绿']\",\n",
      "  \"agent_scratchpad\": \"I need to use the pinyin library to convert the names to pinyin. I can then print out the list of converted names.\\nAction: Python_REPL\\nAction Input: import pinyin\\nObservation: \\nThought:I have imported the pinyin library. Now I can use it to convert the names to pinyin.\\nAction: Python_REPL\\nAction Input: names = ['小明', '小黄', '小红', '小蓝', '小橘', '小绿']\\npinyin_names = [pinyin.get(i, format='strip') for i in names]\\nprint(pinyin_names)\\nObservation: ['xiaoming', 'xiaohuang', 'xiaohong', 'xiaolan', 'xiaoju', 'xiaolv']\\n\\nThought:\",\n",
      "  \"stop\": [\n",
      "    \"\\nObservation:\",\n",
      "    \"\\n\\tObservation:\"\n",
      "  ]\n",
      "}\n",
      "\u001b[32;1m\u001b[1;3m[llm/start]\u001b[0m \u001b[1m[1:chain:AgentExecutor > 8:chain:LLMChain > 9:llm:ChatOpenAI] Entering LLM run with input:\n",
      "\u001b[0m{\n",
      "  \"prompts\": [\n",
      "    \"Human: You are an agent designed to write and execute python code to answer questions.\\nYou have access to a python REPL, which you can use to execute python code.\\nIf you get an error, debug your code and try again.\\nOnly use the output of your code to answer the question. \\nYou might know the answer without running any code, but you should still run the code to get the answer.\\nIf it does not seem like you can write code to answer the question, just return \\\"I don't know\\\" as the answer.\\n\\n\\nPython_REPL: A Python shell. Use this to execute python commands. Input should be a valid python command. If you want to see the output of a value, you should print it out with `print(...)`.\\n\\nUse the following format:\\n\\nQuestion: the input question you must answer\\nThought: you should always think about what to do\\nAction: the action to take, should be one of [Python_REPL]\\nAction Input: the input to the action\\nObservation: the result of the action\\n... (this Thought/Action/Action Input/Observation can repeat N times)\\nThought: I now know the final answer\\nFinal Answer: the final answer to the original input question\\n\\nBegin!\\n\\nQuestion: 使用pinyin拼音库将这些客户名字转换为拼音，并打印输出列表: ['小明', '小黄', '小红', '小蓝', '小橘', '小绿']\\nThought:I need to use the pinyin library to convert the names to pinyin. I can then print out the list of converted names.\\nAction: Python_REPL\\nAction Input: import pinyin\\nObservation: \\nThought:I have imported the pinyin library. Now I can use it to convert the names to pinyin.\\nAction: Python_REPL\\nAction Input: names = ['小明', '小黄', '小红', '小蓝', '小橘', '小绿']\\npinyin_names = [pinyin.get(i, format='strip') for i in names]\\nprint(pinyin_names)\\nObservation: ['xiaoming', 'xiaohuang', 'xiaohong', 'xiaolan', 'xiaoju', 'xiaolv']\\n\\nThought:\"\n",
      "  ]\n",
      "}\n",
      "\u001b[36;1m\u001b[1;3m[llm/end]\u001b[0m \u001b[1m[1:chain:AgentExecutor > 8:chain:LLMChain > 9:llm:ChatOpenAI] [2.17s] Exiting LLM run with output:\n",
      "\u001b[0m{\n",
      "  \"generations\": [\n",
      "    [\n",
      "      {\n",
      "        \"text\": \"I have successfully converted the names to pinyin and printed out the list of converted names.\\nFinal Answer: ['xiaoming', 'xiaohuang', 'xiaohong', 'xiaolan', 'xiaoju', 'xiaolv']\",\n",
      "        \"generation_info\": {\n",
      "          \"finish_reason\": \"stop\"\n",
      "        },\n",
      "        \"message\": {\n",
      "          \"lc\": 1,\n",
      "          \"type\": \"constructor\",\n",
      "          \"id\": [\n",
      "            \"langchain\",\n",
      "            \"schema\",\n",
      "            \"messages\",\n",
      "            \"AIMessage\"\n",
      "          ],\n",
      "          \"kwargs\": {\n",
      "            \"content\": \"I have successfully converted the names to pinyin and printed out the list of converted names.\\nFinal Answer: ['xiaoming', 'xiaohuang', 'xiaohong', 'xiaolan', 'xiaoju', 'xiaolv']\",\n",
      "            \"additional_kwargs\": {}\n",
      "          }\n",
      "        }\n",
      "      }\n",
      "    ]\n",
      "  ],\n",
      "  \"llm_output\": {\n",
      "    \"token_usage\": {\n",
      "      \"prompt_tokens\": 483,\n",
      "      \"completion_tokens\": 48,\n",
      "      \"total_tokens\": 531\n",
      "    },\n",
      "    \"model_name\": \"gpt-3.5-turbo\"\n",
      "  },\n",
      "  \"run\": null\n",
      "}\n",
      "\u001b[36;1m\u001b[1;3m[chain/end]\u001b[0m \u001b[1m[1:chain:AgentExecutor > 8:chain:LLMChain] [2.17s] Exiting Chain run with output:\n",
      "\u001b[0m{\n",
      "  \"text\": \"I have successfully converted the names to pinyin and printed out the list of converted names.\\nFinal Answer: ['xiaoming', 'xiaohuang', 'xiaohong', 'xiaolan', 'xiaoju', 'xiaolv']\"\n",
      "}\n",
      "\u001b[36;1m\u001b[1;3m[chain/end]\u001b[0m \u001b[1m[1:chain:AgentExecutor] [7.57s] Exiting Chain run with output:\n",
      "\u001b[0m{\n",
      "  \"output\": \"['xiaoming', 'xiaohuang', 'xiaohong', 'xiaolan', 'xiaoju', 'xiaolv']\"\n",
      "}\n"
     ]
    }
   ],
   "source": [
    "import langchain\n",
    "langchain.debug=True\n",
    "agent.run(f\"使用pinyin拼音库将这些客户名字转换为拼音，并打印输出列表: {customer_list}\") \n",
    "langchain.debug=False"
   ]
  },
  {
   "cell_type": "markdown",
   "id": "6b2ba50d-53c4-4eab-9467-98f562a072cc",
   "metadata": {
    "tags": []
   },
   "source": [
    "## 三、 定义自己的工具并在代理中使用"
   ]
  },
  {
   "cell_type": "markdown",
   "id": "fb92f6e4-21ab-494d-9c22-d0678050fd37",
   "metadata": {},
   "source": [
    "在本节，我们将创建和使用自定义时间工具。"
   ]
  },
  {
   "cell_type": "markdown",
   "id": "8990b3c6-fe05-45b6-9567-06baec267a99",
   "metadata": {},
   "source": [
    "LangChian tool函数装饰器可以应用用于任何函数，将函数转化为LongChain工具，使其成为代理可调用的工具。我们需要给函数加上非常详细的文档字符串, 使得代理知道在什么情况下、如何使用该函数/工具。比如下面的函数`time`,我们加上了详细的文档字符串。\n",
    "\n"
   ]
  },
  {
   "cell_type": "code",
   "execution_count": 55,
   "id": "e22a823f-3749-4bda-bac3-1b892da77929",
   "metadata": {},
   "outputs": [
    {
     "name": "stdout",
     "output_type": "stream",
     "text": [
      "\n",
      "\n",
      "\u001b[1m> Entering new AgentExecutor chain...\u001b[0m\n",
      "\u001b[32;1m\u001b[1;3m根据提供的工具，我们可以使用`time`函数来获取今天的日期。\n",
      "\n",
      "Thought: 使用`time`函数来获取今天的日期。\n",
      "\n",
      "Action:\n",
      "```\n",
      "{\n",
      "  \"action\": \"time\",\n",
      "  \"action_input\": \"\"\n",
      "}\n",
      "```\n",
      "\n",
      "\u001b[0m\n",
      "Observation: \u001b[36;1m\u001b[1;3m2023-08-06\u001b[0m\n",
      "Thought:\u001b[32;1m\u001b[1;3m我现在知道了最终答案。\n",
      "Final Answer: 今天的日期是2023-08-06。\u001b[0m\n",
      "\n",
      "\u001b[1m> Finished chain.\u001b[0m\n"
     ]
    },
    {
     "data": {
      "text/plain": [
       "{'input': '今天的日期是？', 'output': '今天的日期是2023-08-06。'}"
      ]
     },
     "execution_count": 55,
     "metadata": {},
     "output_type": "execute_result"
    }
   ],
   "source": [
    "# 导入tool函数装饰器\n",
    "from langchain.agents import tool\n",
    "from datetime import date\n",
    "\n",
    "@tool\n",
    "def time(text: str) -> str:\n",
    "    \"\"\"\n",
    "    返回今天的日期，用于任何需要知道今天日期的问题。\\\n",
    "    输入应该总是一个空字符串，\\\n",
    "    这个函数将总是返回今天的日期，任何日期计算应该在这个函数之外进行。\n",
    "    \"\"\"\n",
    "    return str(date.today())\n",
    "\n",
    "# 初始化代理\n",
    "agent= initialize_agent(\n",
    "    tools=[time], #将刚刚创建的时间工具加入代理\n",
    "    llm=llm, #初始化的模型\n",
    "    agent=AgentType.CHAT_ZERO_SHOT_REACT_DESCRIPTION,  #代理类型\n",
    "    handle_parsing_errors=True, #处理解析错误\n",
    "    verbose = True #输出中间步骤\n",
    ")\n",
    "\n",
    "# 使用代理询问今天的日期. \n",
    "# 注: 代理有时候可能会出错（该功能正在开发中）。如果出现错误，请尝试再次运行它。\n",
    "agent(\"今天的日期是？\") "
   ]
  },
  {
   "cell_type": "markdown",
   "id": "923a199f-08e8-4e70-afb5-70cd3e123acf",
   "metadata": {},
   "source": [
    "<br> \n",
    "\n",
    "**上面的过程可以总结为下**\n",
    "\n",
    "1. 模型对于接下来需要做什么，给出思考（Thought） \n",
    "   <p style=\"font-family:verdana; font-size:12px;color:green\"> <strong>思考</strong>：我需要使用 time 工具来获取今天的日期</p>\n",
    "\n",
    "2. 模型基于思考采取行动（Action), 因为使用的工具不同，Action的输出也和之前有所不同，这里输出的为python代码\n",
    "    <p style=\"font-family:verdana; font-size:12px;color:green\"> <strong>行动</strong>: 使用time工具，输入为空字符串</p>\n",
    "    \n",
    "   \n",
    "3. 模型得到观察（Observation）\n",
    "    <p style=\"font-family:verdana; font-size:12px;color:green\"><strong>观测</strong>: 2023-07-04</p>\n",
    "    \n",
    "   \n",
    "    \n",
    "4. 基于观察，模型对于接下来需要做什么，给出思考（Thought）\n",
    "    <p style=\"font-family:verdana; font-size:12px;color:green\"> <strong>思考</strong>: 我已成功使用 time 工具检索到了今天的日期</p>\n",
    "\n",
    "5. 给出最终答案（Final Answer）\n",
    "     <p style=\"font-family:verdana; font-size:12px;color:green\"> <strong>最终答案</strong>: 今天的日期是2023-07-04.</p>\n",
    "6. 返回最终答案。"
   ]
  },
  {
   "cell_type": "markdown",
   "id": "cb464201-cb8e-4f90-a588-9d3c3e798c64",
   "metadata": {},
   "source": [
    "## 英文版提示"
   ]
  },
  {
   "cell_type": "markdown",
   "id": "f80472af-00f9-4789-a3d3-097baca0aea0",
   "metadata": {},
   "source": [
    "### 1.1 使用代理回答数学问题"
   ]
  },
  {
   "cell_type": "code",
   "execution_count": 20,
   "id": "5ae65dd5-4435-453b-bed1-44c1b7e84c6a",
   "metadata": {},
   "outputs": [
    {
     "name": "stdout",
     "output_type": "stream",
     "text": [
      "\n",
      "\n",
      "\u001b[1m> Entering new AgentExecutor chain...\u001b[0m\n",
      "\u001b[32;1m\u001b[1;3mI can use the calculator tool to find the answer to this question.\n",
      "\n",
      "Action:\n",
      "```json\n",
      "{\n",
      "  \"action\": \"Calculator\",\n",
      "  \"action_input\": \"25% of 300\"\n",
      "}\n",
      "```\u001b[0m\n",
      "Observation: \u001b[36;1m\u001b[1;3mAnswer: 75.0\u001b[0m\n",
      "Thought:\u001b[32;1m\u001b[1;3mThe answer is 75.0.\n",
      "Final Answer: 75.0\u001b[0m\n",
      "\n",
      "\u001b[1m> Finished chain.\u001b[0m\n"
     ]
    },
    {
     "data": {
      "text/plain": [
       "{'input': 'What is the 25% of 300?', 'output': '75.0'}"
      ]
     },
     "execution_count": 20,
     "metadata": {},
     "output_type": "execute_result"
    }
   ],
   "source": [
    "from langchain.agents import load_tools, initialize_agent\n",
    "from langchain.agents import AgentType\n",
    "from langchain.python import PythonREPL\n",
    "from langchain.chat_models import ChatOpenAI\n",
    "\n",
    "llm = ChatOpenAI(temperature=0)\n",
    "tools = load_tools(\n",
    "    [\"llm-math\",\"wikipedia\"], \n",
    "    llm=llm \n",
    ")\n",
    "\n",
    "\n",
    "agent= initialize_agent(\n",
    "    tools,  \n",
    "    llm,\n",
    "    agent=AgentType.CHAT_ZERO_SHOT_REACT_DESCRIPTION,\n",
    "    handle_parsing_errors=True,\n",
    "    verbose = True\n",
    ")\n",
    "\n",
    "agent(\"What is the 25% of 300?\")"
   ]
  },
  {
   "cell_type": "markdown",
   "id": "689844ee-3f46-42e1-80ec-bf6eca530104",
   "metadata": {},
   "source": [
    "### 1.2 Tom M. Mitchell的书"
   ]
  },
  {
   "cell_type": "code",
   "execution_count": 21,
   "id": "4b590d97-a1b3-41bb-bfe4-ae54c78003a4",
   "metadata": {},
   "outputs": [
    {
     "name": "stdout",
     "output_type": "stream",
     "text": [
      "\n",
      "\n",
      "\u001b[1m> Entering new AgentExecutor chain...\u001b[0m\n",
      "\u001b[32;1m\u001b[1;3mThought: I can use Wikipedia to find out what book Tom M. Mitchell wrote.\n",
      "\n",
      "Action:\n",
      "```json\n",
      "{\n",
      "  \"action\": \"Wikipedia\",\n",
      "  \"action_input\": \"Tom M. Mitchell\"\n",
      "}\n",
      "```\u001b[0m\n",
      "Observation: \u001b[33;1m\u001b[1;3mPage: Tom M. Mitchell\n",
      "Summary: Tom Michael Mitchell (born August 9, 1951) is an American computer scientist and the Founders University Professor at Carnegie Mellon University (CMU). He is a founder and former Chair of the Machine Learning Department at CMU. Mitchell is known for his contributions to the advancement of machine learning, artificial intelligence, and cognitive neuroscience and is the author of the textbook Machine Learning. He is a member of the United States National Academy of Engineering since 2010. He is also a Fellow of the American Academy of Arts and Sciences, the American Association for the Advancement of Science and a Fellow and past President of the Association for the Advancement of Artificial Intelligence. In October 2018, Mitchell was appointed as the Interim Dean of the School of Computer Science at Carnegie Mellon.\n",
      "\n",
      "\n",
      "\n",
      "Page: Tom Mitchell (Australian footballer)\n",
      "Summary: Thomas Mitchell (born 31 May 1993) is a professional Australian rules footballer playing for the Collingwood Football Club in the Australian Football League (AFL). He previously played for the Adelaide Crows, Sydney Swans from 2012 to 2016, and the Hawthorn Football Club between 2017 and 2022. Mitchell won the Brownlow Medal as the league's best and fairest player in 2018 and set the record for the most disposals in a VFL/AFL match, accruing 54 in a game against Collingwood during that season.\n",
      "\n",
      "\u001b[0m\n",
      "Thought:\u001b[32;1m\u001b[1;3mThe book that Tom M. Mitchell wrote is \"Machine Learning\".\n",
      "Final Answer: Machine Learning\u001b[0m\n",
      "\n",
      "\u001b[1m> Finished chain.\u001b[0m\n"
     ]
    },
    {
     "data": {
      "text/plain": [
       "{'input': 'Tom M. Mitchell is an American computer scientist and the Founders University Professor at Carnegie Mellon University (CMU)what book did he write?',\n",
       " 'output': 'Machine Learning'}"
      ]
     },
     "execution_count": 21,
     "metadata": {},
     "output_type": "execute_result"
    }
   ],
   "source": [
    "from langchain.agents import load_tools, initialize_agent\n",
    "from langchain.agents import AgentType\n",
    "from langchain.python import PythonREPL\n",
    "from langchain.chat_models import ChatOpenAI\n",
    "\n",
    "llm = ChatOpenAI(temperature=0)\n",
    "tools = load_tools(\n",
    "    [\"llm-math\",\"wikipedia\"], \n",
    "    llm=llm \n",
    ")\n",
    "\n",
    "\n",
    "agent= initialize_agent(\n",
    "    tools,  \n",
    "    llm,\n",
    "    agent=AgentType.CHAT_ZERO_SHOT_REACT_DESCRIPTION,\n",
    "    handle_parsing_errors=True,\n",
    "    verbose = True\n",
    ")\n",
    "\n",
    "question = \"Tom M. Mitchell is an American computer scientist \\\n",
    "and the Founders University Professor at Carnegie Mellon University (CMU)\\\n",
    "what book did he write?\"\n",
    "agent(question) "
   ]
  }
 ],
 "metadata": {
  "kernelspec": {
   "display_name": "Python 3 (ipykernel)",
   "language": "python",
   "name": "python3"
  },
  "language_info": {
   "codemirror_mode": {
    "name": "ipython",
    "version": 3
   },
   "file_extension": ".py",
   "mimetype": "text/x-python",
   "name": "python",
   "nbconvert_exporter": "python",
   "pygments_lexer": "ipython3",
   "version": "3.9.12"
  },
  "toc": {
   "base_numbering": 1,
   "nav_menu": {},
   "number_sections": false,
   "sideBar": true,
   "skip_h1_title": false,
   "title_cell": "Table of Contents",
   "title_sidebar": "Contents",
   "toc_cell": false,
   "toc_position": {},
   "toc_section_display": true,
   "toc_window_display": true
  }
 },
 "nbformat": 4,
 "nbformat_minor": 5
}
